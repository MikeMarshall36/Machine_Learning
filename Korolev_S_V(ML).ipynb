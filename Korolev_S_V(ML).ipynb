{
  "cells": [
    {
      "cell_type": "markdown",
      "metadata": {
        "id": "lullF09I_5vB"
      },
      "source": [
        "<h1 align='center'>Numpy - многомерные массивы данных</h1>"
      ]
    },
    {
      "cell_type": "markdown",
      "metadata": {
        "id": "s2386hUA_5vC"
      },
      "source": [
        "[В.Г. Попов](mailto:VGPopov@fa.ru)\n",
        "\n",
        "[Cсылка](https://disk.yandex.ru/d/EKVy5IuePR__iw) на лекции и тетради"
      ]
    },
    {
      "cell_type": "code",
      "execution_count": null,
      "metadata": {
        "id": "9e4nc2GL_5vD"
      },
      "outputs": [],
      "source": [
        "# комменарий\n",
        "%matplotlib inline \n",
        "#команда об интерактивном использовании matplotlib\n",
        "import matplotlib.pyplot as plt #импорт функций подмодуля pyplot об интерактивном \n",
        "#использовании matplotlib"
      ]
    },
    {
      "cell_type": "markdown",
      "metadata": {
        "id": "5YhQRBCB_5vE"
      },
      "source": [
        "## Введение"
      ]
    },
    {
      "cell_type": "markdown",
      "metadata": {
        "id": "DklJbCEf_5vE"
      },
      "source": [
        "Пакет `numpy` (модуль) используется почти во всех численных вычислениях с использованием Python. Это пакет, который обеспечивает высокопроизводительные векторные, матричные и многомерные структуры данных для Python. Он реализован на C и Fortran, поэтому, когда вычисления векторизуются (формулируются векторами и матрицами), производительность очень хорошая.\n",
        "Чтобы использовать `numpy`, вам нужно импортировать модуль, используя, например,:"
      ]
    },
    {
      "cell_type": "code",
      "execution_count": null,
      "metadata": {
        "id": "871dLVQV_5vE"
      },
      "outputs": [],
      "source": [
        "from numpy import * #при этом отсутсвует необходимость использования numpy.array\n",
        "#import nympy as np - позволяет сократить имя объекта используя np.array"
      ]
    },
    {
      "cell_type": "markdown",
      "metadata": {
        "id": "gGSOim0b_5vF"
      },
      "source": [
        "В пакете `numpy` терминологией, используемой для векторов, матриц и многомерных наборов данных, является *array*.\n"
      ]
    },
    {
      "cell_type": "markdown",
      "metadata": {
        "id": "ZROJQrvW_5vF"
      },
      "source": [
        "## Создание `numpy` *arrays*"
      ]
    },
    {
      "cell_type": "markdown",
      "metadata": {
        "id": "r0bzlbSl_5vF"
      },
      "source": [
        "Существует несколько способов инициализации новых массивов numpy, например из\n",
        "\n",
        "* список Python или кортежи\n",
        "* использование функций, предназначенных для генерации массивов numpy, таких как `arange`, `linspace` и т. д.\n",
        "* чтение данных из файлов"
      ]
    },
    {
      "cell_type": "markdown",
      "metadata": {
        "id": "8vlUKcM7_5vF"
      },
      "source": [
        "### Создание из списка (*list*)"
      ]
    },
    {
      "cell_type": "markdown",
      "metadata": {
        "id": "b1WVRrdQ_5vG"
      },
      "source": [
        "Например, для создания новых векторных и матричных массивов из списков Python мы можем использовать `numpy.array`."
      ]
    },
    {
      "cell_type": "code",
      "execution_count": null,
      "metadata": {
        "id": "2J3vgqr2_5vG",
        "outputId": "ae05b314-2057-4cb2-c400-9b7bcad841e9",
        "colab": {
          "base_uri": "https://localhost:8080/"
        }
      },
      "outputs": [
        {
          "output_type": "execute_result",
          "data": {
            "text/plain": [
              "array([1, 2, 3, 4])"
            ]
          },
          "metadata": {},
          "execution_count": 58
        }
      ],
      "source": [
        "# вектор: аргумент функции array список (list) Python\n",
        "v = array([1,2,3,4])\n",
        "\n",
        "v"
      ]
    },
    {
      "cell_type": "code",
      "execution_count": null,
      "metadata": {
        "id": "xahzKHiF_5vH",
        "outputId": "a75dec9c-a7d7-4e33-a236-f0cd7f489862"
      },
      "outputs": [
        {
          "data": {
            "text/plain": [
              "array([[1, 2],\n",
              "       [3, 4]])"
            ]
          },
          "execution_count": 72,
          "metadata": {},
          "output_type": "execute_result"
        }
      ],
      "source": [
        "# матрица: аргумент функции array вложенный список (nestled list) Python\n",
        "M = array([[1, 2], [3, 4]])\n",
        "M"
      ]
    },
    {
      "cell_type": "markdown",
      "metadata": {
        "id": "pVNgcLTw_5vH"
      },
      "source": [
        " `v` и `M` -- объекты общего типа `ndarray`, который создает модуль `numpy`."
      ]
    },
    {
      "cell_type": "code",
      "execution_count": null,
      "metadata": {
        "id": "cx-Soqgu_5vH",
        "outputId": "d4baa1d9-2367-40f4-b91d-6e2fb9f566d3"
      },
      "outputs": [
        {
          "data": {
            "text/plain": [
              "(numpy.ndarray, numpy.ndarray)"
            ]
          },
          "execution_count": 73,
          "metadata": {},
          "output_type": "execute_result"
        }
      ],
      "source": [
        "type(v), type(M)"
      ]
    },
    {
      "cell_type": "markdown",
      "metadata": {
        "id": "gD14j_pU_5vH"
      },
      "source": [
        "Разница между `v` и `M` заключается только в их форме. Мы можем получить информацию о форме массива с помощью `ndarray.shape` свойства."
      ]
    },
    {
      "cell_type": "code",
      "execution_count": null,
      "metadata": {
        "id": "Kjee_vom_5vI",
        "outputId": "3b601785-5a40-47b3-9f67-0b8ca942d347"
      },
      "outputs": [
        {
          "data": {
            "text/plain": [
              "(4,)"
            ]
          },
          "execution_count": 74,
          "metadata": {},
          "output_type": "execute_result"
        }
      ],
      "source": [
        "v.shape"
      ]
    },
    {
      "cell_type": "code",
      "execution_count": null,
      "metadata": {
        "id": "WGNNk6fK_5vI",
        "outputId": "1898ac53-9679-4acc-bba7-c6a604e89aca"
      },
      "outputs": [
        {
          "data": {
            "text/plain": [
              "(2, 2)"
            ]
          },
          "execution_count": 75,
          "metadata": {},
          "output_type": "execute_result"
        }
      ],
      "source": [
        "M.shape"
      ]
    },
    {
      "cell_type": "markdown",
      "metadata": {
        "id": "ZbYspX_f_5vI"
      },
      "source": [
        "Количество элементов в массиве доступно через свойство `ndarray.size`:"
      ]
    },
    {
      "cell_type": "code",
      "execution_count": null,
      "metadata": {
        "id": "YU_xroiO_5vJ",
        "outputId": "e07c8b56-27e8-434e-cbed-8861317a48cf"
      },
      "outputs": [
        {
          "data": {
            "text/plain": [
              "4"
            ]
          },
          "execution_count": 76,
          "metadata": {},
          "output_type": "execute_result"
        }
      ],
      "source": [
        "M.size"
      ]
    },
    {
      "cell_type": "markdown",
      "metadata": {
        "id": "sCg26qiX_5vJ"
      },
      "source": [
        "Так же можно использовать функции `numpy.shape` и `numpy.size`. Использование дублирующих методы функций характерно для Python как языка поддерживающего как объектно-ориентированную так и функциональную парадигмы программирования."
      ]
    },
    {
      "cell_type": "code",
      "execution_count": null,
      "metadata": {
        "id": "UFwmNazi_5vJ",
        "outputId": "b143dc7d-d085-49e9-8072-f31d2879830c"
      },
      "outputs": [
        {
          "data": {
            "text/plain": [
              "(2, 2)"
            ]
          },
          "execution_count": 77,
          "metadata": {},
          "output_type": "execute_result"
        }
      ],
      "source": [
        "shape(M)"
      ]
    },
    {
      "cell_type": "code",
      "execution_count": null,
      "metadata": {
        "id": "EAZQYNGc_5vJ",
        "outputId": "d3b5b367-2be2-400a-bb0e-eb1a1f54c26d"
      },
      "outputs": [
        {
          "data": {
            "text/plain": [
              "4"
            ]
          },
          "execution_count": 78,
          "metadata": {},
          "output_type": "execute_result"
        }
      ],
      "source": [
        "size(M)"
      ]
    },
    {
      "cell_type": "markdown",
      "metadata": {
        "id": "TseogfLb_5vK"
      },
      "source": [
        "До сих пор `numpy.ndarray` ужасно похож на список Python (или вложенный список). Почему бы просто не использовать списки Python для вычислений вместо создания нового типа массива?\n",
        "\n",
        "Есть несколько причин:\n",
        "\n",
        "* Списки Python очень общие. Они могут содержать любой вид объекта. Они динамически типизируются. Они не поддерживают математические функции, такие как матричное и точечное умножение и т. д. Реализация таких функций для списков Python была бы не очень эффективной из-за динамической типизации.\n",
        "* Массивы Numpy **статически типизированы** и **однородны**. Тип элементов определяется при создании массива.\n",
        "* Массивы Numpy эффективны для работы с памятью.\n",
        "* Из-за статической типизации быстро реализуются математические функции, такие как умножение и сложение массивов `numpy`, функции могут быть реализованы на компилируемом языке (используется C и Fortran).\n",
        "\n",
        "Используя свойство `dtype` (тип данных) `ndarray`, мы можем увидеть, какой тип имеют данные массива:"
      ]
    },
    {
      "cell_type": "code",
      "execution_count": null,
      "metadata": {
        "id": "FQTaOjl3_5vK",
        "outputId": "601dbd84-9e69-42dd-bdf8-fd36069a4f58"
      },
      "outputs": [
        {
          "data": {
            "text/plain": [
              "dtype('int32')"
            ]
          },
          "execution_count": 79,
          "metadata": {},
          "output_type": "execute_result"
        }
      ],
      "source": [
        "M.dtype"
      ]
    },
    {
      "cell_type": "markdown",
      "metadata": {
        "id": "8Erpa891_5vK"
      },
      "source": [
        "Обратите внимание, что при не совпадении типов при присвоении будет выдана ошибка, что есть следствие статической типизации `ndarray`:"
      ]
    },
    {
      "cell_type": "code",
      "execution_count": null,
      "metadata": {
        "id": "wt4pEuO9_5vL",
        "outputId": "d9b5a622-1af9-4aa9-cb44-b0e8754fb806"
      },
      "outputs": [
        {
          "ename": "ValueError",
          "evalue": "invalid literal for int() with base 10: 'hello'",
          "output_type": "error",
          "traceback": [
            "\u001b[1;31m---------------------------------------------------------------------------\u001b[0m",
            "\u001b[1;31mValueError\u001b[0m                                Traceback (most recent call last)",
            "\u001b[1;32m<ipython-input-80-e1f336250f69>\u001b[0m in \u001b[0;36m<module>\u001b[1;34m\u001b[0m\n\u001b[1;32m----> 1\u001b[1;33m \u001b[0mM\u001b[0m\u001b[1;33m[\u001b[0m\u001b[1;36m0\u001b[0m\u001b[1;33m,\u001b[0m\u001b[1;36m0\u001b[0m\u001b[1;33m]\u001b[0m \u001b[1;33m=\u001b[0m \u001b[1;34m\"hello\"\u001b[0m\u001b[1;33m\u001b[0m\u001b[1;33m\u001b[0m\u001b[0m\n\u001b[0m",
            "\u001b[1;31mValueError\u001b[0m: invalid literal for int() with base 10: 'hello'"
          ]
        }
      ],
      "source": [
        "M[0,0] = \"hello\""
      ]
    },
    {
      "cell_type": "markdown",
      "metadata": {
        "id": "XW-O08Lf_5vL"
      },
      "source": [
        "Если мы хотим, мы можем явно определить тип данных массива при его создании, используя аргумент ключевого слова `dtype`:"
      ]
    },
    {
      "cell_type": "code",
      "execution_count": null,
      "metadata": {
        "id": "tuZD_A69_5vL",
        "outputId": "c4cc4076-eb65-479c-829b-720e3288164e"
      },
      "outputs": [
        {
          "data": {
            "text/plain": [
              "array([[1.+0.j, 2.+0.j],\n",
              "       [3.+0.j, 4.+0.j]])"
            ]
          },
          "execution_count": 81,
          "metadata": {},
          "output_type": "execute_result"
        }
      ],
      "source": [
        "M = array([[1, 2], [3, 4]], dtype=complex)\n",
        "\n",
        "M"
      ]
    },
    {
      "cell_type": "markdown",
      "metadata": {
        "id": "bSj1YFrT_5vL"
      },
      "source": [
        "Общие типы данных, которые можно использовать с `dtype`: `int`, `float`, `complex`, `bool`, `object` и т. д.\n",
        "\n",
        "Мы также можем явно определить битовый размер типов данных, например: `int64`, `int16`, `float128`, `complex128`."
      ]
    },
    {
      "cell_type": "markdown",
      "metadata": {
        "id": "dCVDy4hj_5vM"
      },
      "source": [
        "### Задание 1\n",
        "Создайте матрицу таблицы умножения с использованием списков"
      ]
    },
    {
      "cell_type": "code",
      "source": [
        "num = [i for i in range(1, 10)]\n",
        "res = []\n",
        "for i in range(len(num)):\n",
        "  for j in range(1, 10):\n",
        "    res.append(num[i]*j)\n",
        "\n",
        "final_res = array([[res[x], res[x+1], res[x+2], res[x+3], res[x+4], res[x+5], res[x+6], res[x+7], res[x+8]] for x in range(0, len(res), 9)], dtype=int)\n",
        "\n",
        "print(f'{final_res}\\n{type(final_res)}\\n{final_res.shape}')"
      ],
      "metadata": {
        "colab": {
          "base_uri": "https://localhost:8080/"
        },
        "id": "SyJhYHqiBtKP",
        "outputId": "9b8bff75-bdcb-4502-e1e7-75c77a10b6cb"
      },
      "execution_count": null,
      "outputs": [
        {
          "output_type": "stream",
          "name": "stdout",
          "text": [
            "[[ 1  2  3  4  5  6  7  8  9]\n",
            " [ 2  4  6  8 10 12 14 16 18]\n",
            " [ 3  6  9 12 15 18 21 24 27]\n",
            " [ 4  8 12 16 20 24 28 32 36]\n",
            " [ 5 10 15 20 25 30 35 40 45]\n",
            " [ 6 12 18 24 30 36 42 48 54]\n",
            " [ 7 14 21 28 35 42 49 56 63]\n",
            " [ 8 16 24 32 40 48 56 64 72]\n",
            " [ 9 18 27 36 45 54 63 72 81]]\n",
            "<class 'numpy.ndarray'>\n",
            "(9, 9)\n"
          ]
        }
      ]
    },
    {
      "cell_type": "markdown",
      "metadata": {
        "id": "FrGobrKf_5vM"
      },
      "source": [
        "### Функции генерирующие массивы."
      ]
    },
    {
      "cell_type": "markdown",
      "metadata": {
        "id": "vAstghpU_5vM"
      },
      "source": [
        "Для больших массивов нецелесообразно инициализировать данные вручную, используя явные списки Python. Вместо этого мы можем использовать одну из многих функций в `numpy`, которые генерируют массивы различных форм. Некоторые из наиболее распространенных являются:"
      ]
    },
    {
      "cell_type": "markdown",
      "metadata": {
        "id": "IS9hj0DN_5vM"
      },
      "source": [
        "#### Функция arange"
      ]
    },
    {
      "cell_type": "code",
      "execution_count": null,
      "metadata": {
        "id": "LXa2vcRh_5vM",
        "outputId": "5577109f-4496-4037-a662-99bdaf97adb0"
      },
      "outputs": [
        {
          "data": {
            "text/plain": [
              "array([10,  9,  8,  7,  6])"
            ]
          },
          "execution_count": 82,
          "metadata": {},
          "output_type": "execute_result"
        }
      ],
      "source": [
        "# массив целых от 0 до 10\n",
        "\n",
        "x = arange(10, 5, -1) # аргументы: начало, конец, шаг\n",
        "x"
      ]
    },
    {
      "cell_type": "code",
      "execution_count": null,
      "metadata": {
        "id": "6DjoK9T4_5vN",
        "outputId": "1f5cad85-880b-4ceb-8bd9-182f354b4036"
      },
      "outputs": [
        {
          "data": {
            "text/plain": [
              "array([-1.00000000e+00, -9.00000000e-01, -8.00000000e-01, -7.00000000e-01,\n",
              "       -6.00000000e-01, -5.00000000e-01, -4.00000000e-01, -3.00000000e-01,\n",
              "       -2.00000000e-01, -1.00000000e-01, -2.22044605e-16,  1.00000000e-01,\n",
              "        2.00000000e-01,  3.00000000e-01,  4.00000000e-01,  5.00000000e-01,\n",
              "        6.00000000e-01,  7.00000000e-01,  8.00000000e-01,  9.00000000e-01])"
            ]
          },
          "execution_count": 83,
          "metadata": {},
          "output_type": "execute_result"
        }
      ],
      "source": [
        "x = arange(-1, 1, 0.1)\n",
        "\n",
        "x"
      ]
    },
    {
      "cell_type": "markdown",
      "metadata": {
        "id": "L_fSyhwk_5vN"
      },
      "source": [
        "#### Функции linspace и logspace"
      ]
    },
    {
      "cell_type": "code",
      "execution_count": null,
      "metadata": {
        "id": "PLnNZ1PE_5vN",
        "outputId": "1d7d88f4-a9ac-437b-dcc3-164d787afbd3"
      },
      "outputs": [
        {
          "data": {
            "text/plain": [
              "array([ 5. ,  5.5,  6. ,  6.5,  7. ,  7.5,  8. ,  8.5,  9. ,  9.5, 10. ])"
            ]
          },
          "execution_count": 84,
          "metadata": {},
          "output_type": "execute_result"
        }
      ],
      "source": [
        "# использование linspace, оба конечных значения включены\n",
        "linspace(5, 10, 11)"
      ]
    },
    {
      "cell_type": "code",
      "execution_count": null,
      "metadata": {
        "id": "PDuWzYtP_5vN",
        "outputId": "5f369d80-14de-4e17-ff95-a6cd32447f4d"
      },
      "outputs": [
        {
          "data": {
            "text/plain": [
              "array([1.e+00, 1.e+01, 1.e+02, 1.e+03, 1.e+04, 1.e+05, 1.e+06, 1.e+07,\n",
              "       1.e+08, 1.e+09, 1.e+10])"
            ]
          },
          "execution_count": 85,
          "metadata": {},
          "output_type": "execute_result"
        }
      ],
      "source": [
        "logspace(0, 10, 11, base=10) # создание равномерной последовальности в логарифмической шкале"
      ]
    },
    {
      "cell_type": "markdown",
      "metadata": {
        "id": "FQ7vg5eL_5vO"
      },
      "source": [
        "#### Функция mgrid"
      ]
    },
    {
      "cell_type": "code",
      "execution_count": null,
      "metadata": {
        "id": "jNv06mcG_5vO"
      },
      "outputs": [],
      "source": [
        "x, y = mgrid[0:5, 0:5] #создает сетку равномерно расположенных значений подобно meshgrid в MATLAB"
      ]
    },
    {
      "cell_type": "code",
      "execution_count": null,
      "metadata": {
        "id": "baj-SxyS_5vO",
        "outputId": "f77f7ef2-993f-41da-e780-de5257c072e9"
      },
      "outputs": [
        {
          "data": {
            "text/plain": [
              "array([[0, 0, 0, 0, 0],\n",
              "       [1, 1, 1, 1, 1],\n",
              "       [2, 2, 2, 2, 2],\n",
              "       [3, 3, 3, 3, 3],\n",
              "       [4, 4, 4, 4, 4]])"
            ]
          },
          "execution_count": 87,
          "metadata": {},
          "output_type": "execute_result"
        }
      ],
      "source": [
        "x"
      ]
    },
    {
      "cell_type": "code",
      "execution_count": null,
      "metadata": {
        "id": "2-xoF-FV_5vO",
        "outputId": "dd55be6a-cbac-4144-9179-4252b9275967"
      },
      "outputs": [
        {
          "data": {
            "text/plain": [
              "array([[0, 1, 2, 3, 4],\n",
              "       [0, 1, 2, 3, 4],\n",
              "       [0, 1, 2, 3, 4],\n",
              "       [0, 1, 2, 3, 4],\n",
              "       [0, 1, 2, 3, 4]])"
            ]
          },
          "execution_count": 88,
          "metadata": {},
          "output_type": "execute_result"
        }
      ],
      "source": [
        "y"
      ]
    },
    {
      "cell_type": "markdown",
      "metadata": {
        "id": "sFyaP_nL_5vO"
      },
      "source": [
        "#### Создание случайных данных средствами random"
      ]
    },
    {
      "cell_type": "code",
      "execution_count": null,
      "metadata": {
        "id": "8bMUizpW_5vO"
      },
      "outputs": [],
      "source": [
        "from numpy import random"
      ]
    },
    {
      "cell_type": "code",
      "execution_count": null,
      "metadata": {
        "id": "rwAQeJbI_5vP",
        "outputId": "b63e2db7-71f9-4dc1-98a9-b7b17c02981e"
      },
      "outputs": [
        {
          "data": {
            "text/plain": [
              "array([[0.19810004, 0.79679794, 0.75800493, 0.42021565, 0.892738  ],\n",
              "       [0.3695785 , 0.83584818, 0.50672425, 0.11531217, 0.04575985],\n",
              "       [0.3617646 , 0.78505861, 0.21689074, 0.30752668, 0.23157129],\n",
              "       [0.55806164, 0.45853637, 0.7582531 , 0.52894859, 0.55324777],\n",
              "       [0.97696523, 0.85710999, 0.65287462, 0.64889934, 0.23282437]])"
            ]
          },
          "execution_count": 90,
          "metadata": {},
          "output_type": "execute_result"
        }
      ],
      "source": [
        "# случайные данные с равномерным распределением в отрезке [0,1]\n",
        "random.rand(5,5)"
      ]
    },
    {
      "cell_type": "code",
      "execution_count": null,
      "metadata": {
        "id": "aqiVN4MX_5vP",
        "outputId": "54413765-5bd0-45a5-e03d-a329e8a9ee18"
      },
      "outputs": [
        {
          "data": {
            "text/plain": [
              "array([[ 0.27718479,  0.92067982,  2.39722977, -0.32262181, -0.49753417],\n",
              "       [ 0.27945211, -0.27114146, -1.08427515, -2.49745279,  0.26826587],\n",
              "       [-0.829952  ,  1.62580514,  0.13900494, -0.93974012, -1.47948409],\n",
              "       [-0.6253112 ,  1.23160839, -1.7329682 , -1.55078758,  0.36129448],\n",
              "       [ 0.1880246 , -2.49982936, -0.35190674, -0.53703778,  0.14930211]])"
            ]
          },
          "execution_count": 91,
          "metadata": {},
          "output_type": "execute_result"
        }
      ],
      "source": [
        "# случайные данные с нормальным распределением\n",
        "random.randn(5,5)"
      ]
    },
    {
      "cell_type": "markdown",
      "metadata": {
        "id": "stF_X16R_5vP"
      },
      "source": [
        "#### Создание квадратных матриц функцией diag"
      ]
    },
    {
      "cell_type": "code",
      "execution_count": null,
      "metadata": {
        "id": "1Sl8N3S1_5vP",
        "outputId": "b587f807-a67e-490f-a650-5fb705167b12"
      },
      "outputs": [
        {
          "data": {
            "text/plain": [
              "array([[1, 0, 0],\n",
              "       [0, 2, 0],\n",
              "       [0, 0, 3]])"
            ]
          },
          "execution_count": 92,
          "metadata": {},
          "output_type": "execute_result"
        }
      ],
      "source": [
        "# матрица с диагональю\n",
        "diag([1,2,3])"
      ]
    },
    {
      "cell_type": "code",
      "execution_count": null,
      "metadata": {
        "id": "dpReFRUv_5vP",
        "outputId": "e206edb3-58e4-4367-b39c-69243b4cca35"
      },
      "outputs": [
        {
          "data": {
            "text/plain": [
              "array([[0, 1, 0, 0],\n",
              "       [0, 0, 2, 0],\n",
              "       [0, 0, 0, 3],\n",
              "       [0, 0, 0, 0]])"
            ]
          },
          "execution_count": 93,
          "metadata": {},
          "output_type": "execute_result"
        }
      ],
      "source": [
        "# матрица со сдвинутой диагональю\n",
        "diag([1,2,3], k=1) "
      ]
    },
    {
      "cell_type": "markdown",
      "metadata": {
        "id": "SwQZRcUk_5vQ"
      },
      "source": [
        "#### Матрицы или спецмассивы zeros и ones"
      ]
    },
    {
      "cell_type": "code",
      "execution_count": null,
      "metadata": {
        "id": "4CQsJRXa_5vQ",
        "outputId": "d894a810-6edb-43c5-9a7f-2669d8e1fa99"
      },
      "outputs": [
        {
          "data": {
            "text/plain": [
              "array([[0., 0., 0.],\n",
              "       [0., 0., 0.],\n",
              "       [0., 0., 0.]])"
            ]
          },
          "execution_count": 94,
          "metadata": {},
          "output_type": "execute_result"
        }
      ],
      "source": [
        "zeros((3,3))"
      ]
    },
    {
      "cell_type": "code",
      "execution_count": null,
      "metadata": {
        "id": "qoIqHKQ9_5vQ",
        "outputId": "8829a86b-4e67-428e-b99f-6b053ba092b7"
      },
      "outputs": [
        {
          "data": {
            "text/plain": [
              "array([[1., 1., 1.],\n",
              "       [1., 1., 1.],\n",
              "       [1., 1., 1.]])"
            ]
          },
          "execution_count": 245,
          "metadata": {},
          "output_type": "execute_result"
        }
      ],
      "source": [
        "ones((3,3))"
      ]
    },
    {
      "cell_type": "markdown",
      "metadata": {
        "id": "CnnStQ8E_5vQ"
      },
      "source": [
        "### Задание 2\n",
        "Создайте функцию, которая принимает как аргументы целое число N и первый элемент (вещественное число el1), и разность (вещественное число d) и создает матрицу по диагонали, которой распологаются первые N членов арифметической прогрессии. "
      ]
    },
    {
      "cell_type": "code",
      "source": [
        "def task_2(n:int, el1:int, d:int) -> int:\n",
        "  arr = array(diag(arange(el1, el1 + d*n, d)))\n",
        "  return arr\n",
        "\n",
        "res = task_2(4, 1, 3)\n",
        "print(res, res.shape)"
      ],
      "metadata": {
        "colab": {
          "base_uri": "https://localhost:8080/"
        },
        "id": "yexLkTIgKuh5",
        "outputId": "7bb9bebc-8252-4fb2-debd-2784cabf92d4"
      },
      "execution_count": null,
      "outputs": [
        {
          "output_type": "stream",
          "name": "stdout",
          "text": [
            "[[ 1  0  0  0]\n",
            " [ 0  4  0  0]\n",
            " [ 0  0  7  0]\n",
            " [ 0  0  0 10]] (4, 4)\n"
          ]
        }
      ]
    },
    {
      "cell_type": "markdown",
      "metadata": {
        "id": "P0a1wrF4_5vQ"
      },
      "source": [
        "## Запись и чтение в файл"
      ]
    },
    {
      "cell_type": "markdown",
      "metadata": {
        "id": "sTHiKYdY_5vQ"
      },
      "source": [
        "### Файлы данных Comma-separated values (CSV)"
      ]
    },
    {
      "cell_type": "markdown",
      "metadata": {
        "id": "j_VXKmxv_5vR"
      },
      "source": [
        "Очень распространенным форматом файлов данных являются значения, разделенные запятыми (CSV), или связанные с ними форматы, такие как TSV (значения, разделенные табуляциями). Для чтения данных из таких файлов в массивы Numpy мы можем использовать функцию `numpy.genfromtxt`. Например:"
      ]
    },
    {
      "cell_type": "code",
      "execution_count": null,
      "metadata": {
        "id": "yW2kRNPc_5vR"
      },
      "outputs": [],
      "source": [
        "data = genfromtxt('stockholm_td_adj.dat')"
      ]
    },
    {
      "cell_type": "code",
      "execution_count": null,
      "metadata": {
        "id": "PyFSpufq_5vR",
        "outputId": "2cfa0497-2160-4b9f-e2ac-8e39303d60c1",
        "colab": {
          "base_uri": "https://localhost:8080/"
        }
      },
      "outputs": [
        {
          "output_type": "execute_result",
          "data": {
            "text/plain": [
              "(77431, 7)"
            ]
          },
          "metadata": {},
          "execution_count": 62
        }
      ],
      "source": [
        "data.shape"
      ]
    },
    {
      "cell_type": "code",
      "execution_count": null,
      "metadata": {
        "id": "czuesufm_5vR",
        "outputId": "2dd38b62-1980-4cce-cdaa-08fab09cf098",
        "colab": {
          "base_uri": "https://localhost:8080/",
          "height": 295
        }
      },
      "outputs": [
        {
          "output_type": "display_data",
          "data": {
            "text/plain": [
              "<Figure size 1008x288 with 1 Axes>"
            ],
            "image/png": "[encoded data removed]"
          },
          "metadata": {
            "needs_background": "light"
          }
        }
      ],
      "source": [
        "fig, ax = plt.subplots(figsize=(14,4))\n",
        "x=linspace(1,32,31)\n",
        "y=array([data[i,5] for i in range(data.shape[0]) if (data[i,0]==1950)*(data[i,1]==5)])\n",
        "ax.plot(x,y)\n",
        "ax.axis('tight')\n",
        "ax.set_title('tempeatures in Stockholm')\n",
        "ax.set_xlabel('day')\n",
        "ax.set_ylabel('temperature (C)');\n"
      ]
    },
    {
      "cell_type": "markdown",
      "metadata": {
        "id": "8IwFxIgI_5vR"
      },
      "source": [
        "Используя `numpy.savetxt` можно записать Numpy массив в файл CSV формате:"
      ]
    },
    {
      "cell_type": "code",
      "execution_count": null,
      "metadata": {
        "id": "l_6LoH0I_5vS",
        "outputId": "9a1f4cd8-5cea-4840-d21f-44e1868bfe4e"
      },
      "outputs": [
        {
          "data": {
            "text/plain": [
              "array([[0.01957785, 0.26105203, 0.59452319],\n",
              "       [0.84042664, 0.36882056, 0.06497298],\n",
              "       [0.88157179, 0.65403621, 0.7400268 ]])"
            ]
          },
          "execution_count": 100,
          "metadata": {},
          "output_type": "execute_result"
        }
      ],
      "source": [
        "M = random.rand(3,3)\n",
        "\n",
        "M"
      ]
    },
    {
      "cell_type": "code",
      "execution_count": null,
      "metadata": {
        "id": "ZVmd-Gs1_5vS"
      },
      "outputs": [],
      "source": [
        "savetxt(\"random-matrix.csv\", M)"
      ]
    },
    {
      "cell_type": "code",
      "execution_count": null,
      "metadata": {
        "id": "cXrPNif8_5vS",
        "outputId": "6a2baf7c-b0c8-47f5-91cf-84acc9ce34c8"
      },
      "outputs": [
        {
          "data": {
            "text/plain": [
              "array([[0.01958, 0.26105, 0.59452],\n",
              "       [0.84043, 0.36882, 0.06497],\n",
              "       [0.88157, 0.65404, 0.74003]])"
            ]
          },
          "execution_count": 103,
          "metadata": {},
          "output_type": "execute_result"
        }
      ],
      "source": [
        "savetxt(\"random-matrix.csv\", M, fmt='%.5f') # fmt определяет формат данных\n",
        "rand_data = genfromtxt('random-matrix.csv')\n",
        "rand_data"
      ]
    },
    {
      "cell_type": "markdown",
      "metadata": {
        "id": "qgqzi_0N_5vS"
      },
      "source": [
        "### Формат файлов Numpy"
      ]
    },
    {
      "cell_type": "markdown",
      "metadata": {
        "id": "qkF8sqU0_5vS"
      },
      "source": [
        "Полезно при хранении и считывании данных массива numpy. Используйте функции `numpy.save` и `numpy.load`:"
      ]
    },
    {
      "cell_type": "code",
      "execution_count": null,
      "metadata": {
        "id": "m5j3TELy_5vS"
      },
      "outputs": [],
      "source": [
        "save(\"random-matrix.npy\", M)"
      ]
    },
    {
      "cell_type": "code",
      "execution_count": null,
      "metadata": {
        "id": "Pp1W2wDu_5vT",
        "outputId": "3ab78234-ec69-4dd4-a26a-ccb38a4e82ba"
      },
      "outputs": [
        {
          "data": {
            "text/plain": [
              "array([[0.01957785, 0.26105203, 0.59452319],\n",
              "       [0.84042664, 0.36882056, 0.06497298],\n",
              "       [0.88157179, 0.65403621, 0.7400268 ]])"
            ]
          },
          "execution_count": 105,
          "metadata": {},
          "output_type": "execute_result"
        }
      ],
      "source": [
        "load(\"random-matrix.npy\")"
      ]
    },
    {
      "cell_type": "markdown",
      "metadata": {
        "id": "1sAf348B_5vT"
      },
      "source": [
        "### Задание 3\n",
        "Из данных по температуре в Стокгольме выбрать данные относящиеся к октябрю 1970 года и записать их в бинарный и текстовый файлы oct70.bin и oct70.txt. Затем прочитайте их импортировав в тетрадь ноутбука и сравните."
      ]
    },
    {
      "cell_type": "code",
      "source": [
        "data = genfromtxt('stockholm_td_adj.dat')\n",
        "\n",
        "fig, ax = plt.subplots(figsize=(14,6))\n",
        "x=linspace(1,32,31)\n",
        "y=array([data[i,5] for i in range(data.shape[0]) if (data[i,0]==1970)*(data[i,1]==10)])\n",
        "ax.plot(x,y)\n",
        "ax.axis('tight')\n",
        "ax.set_title('tempeatures in Stockholm (1970)')\n",
        "ax.set_xlabel('day')\n",
        "ax.set_ylabel('temperature (C)');\n",
        "save('oct70.txt', y)\n",
        "save('oct70.bin', y)"
      ],
      "metadata": {
        "colab": {
          "base_uri": "https://localhost:8080/",
          "height": 404
        },
        "id": "7jmAMZ0peXfX",
        "outputId": "e85e1d22-1edb-49ea-b844-abd253c3ce36"
      },
      "execution_count": null,
      "outputs": [
        {
          "output_type": "display_data",
          "data": {
            "text/plain": [
              "<Figure size 1008x432 with 1 Axes>"
            ],
            "image/png": "[encoded data removed]"
          },
          "metadata": {
            "needs_background": "light"
          }
        }
      ]
    },
    {
      "cell_type": "markdown",
      "metadata": {
        "id": "ROS63pmN_5vT"
      },
      "source": [
        "## Дополнительные свойства `numpy` *arrays*"
      ]
    },
    {
      "cell_type": "code",
      "execution_count": null,
      "metadata": {
        "id": "L_RQM6CB_5vT",
        "outputId": "639d8ac9-5ca9-4b53-de72-45b1cc6318fe"
      },
      "outputs": [
        {
          "data": {
            "text/plain": [
              "8"
            ]
          },
          "execution_count": 106,
          "metadata": {},
          "output_type": "execute_result"
        }
      ],
      "source": [
        "M.itemsize # размер элемента в байтах"
      ]
    },
    {
      "cell_type": "code",
      "execution_count": null,
      "metadata": {
        "id": "EREuQXSy_5vT",
        "outputId": "c06f28a2-1a15-4d56-b5c7-800cc557b50a"
      },
      "outputs": [
        {
          "data": {
            "text/plain": [
              "72"
            ]
          },
          "execution_count": 107,
          "metadata": {},
          "output_type": "execute_result"
        }
      ],
      "source": [
        "M.nbytes # кол-во байт"
      ]
    },
    {
      "cell_type": "code",
      "execution_count": null,
      "metadata": {
        "id": "achcOIcN_5vT",
        "outputId": "a2a901ff-b3e8-413d-f7e4-b732e5649429"
      },
      "outputs": [
        {
          "data": {
            "text/plain": [
              "2"
            ]
          },
          "execution_count": 108,
          "metadata": {},
          "output_type": "execute_result"
        }
      ],
      "source": [
        "M.ndim # размерность"
      ]
    },
    {
      "cell_type": "markdown",
      "metadata": {
        "id": "0ffmTjyM_5vU"
      },
      "source": [
        "## Преобразование массивов"
      ]
    },
    {
      "cell_type": "markdown",
      "metadata": {
        "id": "jwBZ9Of6_5vU"
      },
      "source": [
        "### Использование индексов"
      ]
    },
    {
      "cell_type": "markdown",
      "metadata": {
        "id": "yvKL_u4-_5vU"
      },
      "source": [
        "Доступ к элементам через индекс:"
      ]
    },
    {
      "cell_type": "code",
      "execution_count": null,
      "metadata": {
        "id": "ygMzXE1d_5vU",
        "outputId": "cec8f1b7-ed3d-4abf-aad9-c73833dbd7f7"
      },
      "outputs": [
        {
          "data": {
            "text/plain": [
              "1"
            ]
          },
          "execution_count": 109,
          "metadata": {},
          "output_type": "execute_result"
        }
      ],
      "source": [
        "# v -- вектор, размерность 1, испльзуем 1 индекс\n",
        "v[0]"
      ]
    },
    {
      "cell_type": "code",
      "execution_count": null,
      "metadata": {
        "id": "NP-cIFMj_5vU",
        "outputId": "f6ba2637-5555-4604-8537-b6a0748ca5a1"
      },
      "outputs": [
        {
          "data": {
            "text/plain": [
              "0.36882056243262484"
            ]
          },
          "execution_count": 110,
          "metadata": {},
          "output_type": "execute_result"
        }
      ],
      "source": [
        "# M -- матрица, 2-х мерный объект, используем 2 индекса \n",
        "M[1,1]"
      ]
    },
    {
      "cell_type": "markdown",
      "metadata": {
        "id": "9YkOGjbw_5vU"
      },
      "source": [
        "Если мы опустим один из индексов, то получим объект пониженной размерности. В случае двумерной матрицы, получим вектор. "
      ]
    },
    {
      "cell_type": "code",
      "execution_count": null,
      "metadata": {
        "id": "6wq7yG8__5vV",
        "outputId": "92465dde-568a-422d-db00-6faeab6bd56f"
      },
      "outputs": [
        {
          "data": {
            "text/plain": [
              "array([[0.01957785, 0.26105203, 0.59452319],\n",
              "       [0.84042664, 0.36882056, 0.06497298],\n",
              "       [0.88157179, 0.65403621, 0.7400268 ]])"
            ]
          },
          "execution_count": 111,
          "metadata": {},
          "output_type": "execute_result"
        }
      ],
      "source": [
        "M"
      ]
    },
    {
      "cell_type": "code",
      "execution_count": null,
      "metadata": {
        "id": "zDYLMJuD_5vV",
        "outputId": "bef62676-7881-43c9-b12b-25650ee49443"
      },
      "outputs": [
        {
          "data": {
            "text/plain": [
              "array([0.84042664, 0.36882056, 0.06497298])"
            ]
          },
          "execution_count": 112,
          "metadata": {},
          "output_type": "execute_result"
        }
      ],
      "source": [
        "M[1]"
      ]
    },
    {
      "cell_type": "markdown",
      "metadata": {
        "id": "RQ5O4TIV_5vV"
      },
      "source": [
        "Такой же эффект получится при использовании `:` на месте индекса:"
      ]
    },
    {
      "cell_type": "code",
      "execution_count": null,
      "metadata": {
        "id": "BZYPk1fC_5vV",
        "outputId": "c3dc4440-bf7d-47a3-cfcd-21c608a9a489"
      },
      "outputs": [
        {
          "data": {
            "text/plain": [
              "array([0.84042664, 0.36882056, 0.06497298])"
            ]
          },
          "execution_count": 113,
          "metadata": {},
          "output_type": "execute_result"
        }
      ],
      "source": [
        "M[1,:] # строка (row) 1"
      ]
    },
    {
      "cell_type": "code",
      "execution_count": null,
      "metadata": {
        "id": "DUA_eKRP_5vV",
        "outputId": "07a4ce5e-6e05-4ea1-b912-81afd9264cf6"
      },
      "outputs": [
        {
          "data": {
            "text/plain": [
              "array([0.26105203, 0.36882056, 0.65403621])"
            ]
          },
          "execution_count": 114,
          "metadata": {},
          "output_type": "execute_result"
        }
      ],
      "source": [
        "M[:,1] # столбец (column) 1"
      ]
    },
    {
      "cell_type": "markdown",
      "metadata": {
        "id": "iigcTUS__5vV"
      },
      "source": [
        "Мы можем присваивать новые значения элементам массива с помощью индексации:"
      ]
    },
    {
      "cell_type": "code",
      "execution_count": null,
      "metadata": {
        "id": "BVeO4PCU_5vW"
      },
      "outputs": [],
      "source": [
        "M[0,0] = 1"
      ]
    },
    {
      "cell_type": "code",
      "execution_count": null,
      "metadata": {
        "id": "Ffdq3Jvs_5vW",
        "outputId": "8438e0e3-9c67-4067-ef1a-a3fbaa9891a8"
      },
      "outputs": [
        {
          "data": {
            "text/plain": [
              "array([[1.        , 0.26105203, 0.59452319],\n",
              "       [0.84042664, 0.36882056, 0.06497298],\n",
              "       [0.88157179, 0.65403621, 0.7400268 ]])"
            ]
          },
          "execution_count": 116,
          "metadata": {},
          "output_type": "execute_result"
        }
      ],
      "source": [
        "M"
      ]
    },
    {
      "cell_type": "code",
      "execution_count": null,
      "metadata": {
        "id": "gLWc4Az4_5vX"
      },
      "outputs": [],
      "source": [
        "# также работает для строк и столбцов\n",
        "M[1,:] = 0\n",
        "M[:,2] = -1"
      ]
    },
    {
      "cell_type": "code",
      "execution_count": null,
      "metadata": {
        "id": "eShVVYBQ_5vX",
        "outputId": "1028f5d9-8eae-48b1-d8e1-dda3c56f2e45"
      },
      "outputs": [
        {
          "data": {
            "text/plain": [
              "array([[ 1.        ,  0.26105203, -1.        ],\n",
              "       [ 0.        ,  0.        , -1.        ],\n",
              "       [ 0.88157179,  0.65403621, -1.        ]])"
            ]
          },
          "execution_count": 118,
          "metadata": {},
          "output_type": "execute_result"
        }
      ],
      "source": [
        "M"
      ]
    },
    {
      "cell_type": "markdown",
      "metadata": {
        "id": "Dr_BBDCH_5vX"
      },
      "source": [
        "### Срезы (*slice*) по индексам"
      ]
    },
    {
      "cell_type": "markdown",
      "metadata": {
        "id": "q3sBBNwZ_5vX"
      },
      "source": [
        "Срезы по индексам техническое название `M[нижний индекс:верхний индекс:шаг]` предназначенные для извлечения части массива:"
      ]
    },
    {
      "cell_type": "code",
      "execution_count": null,
      "metadata": {
        "id": "MnmaDbvT_5vX",
        "outputId": "3b9c8dc9-07b1-40eb-f6a6-6052f7b296c4"
      },
      "outputs": [
        {
          "data": {
            "text/plain": [
              "array([1, 2, 3, 4, 5])"
            ]
          },
          "execution_count": 119,
          "metadata": {},
          "output_type": "execute_result"
        }
      ],
      "source": [
        "A = array([1,2,3,4,5])\n",
        "A"
      ]
    },
    {
      "cell_type": "code",
      "execution_count": null,
      "metadata": {
        "id": "78mzEjVA_5vX",
        "outputId": "ee33f438-15a7-4f71-899b-c1be9532019b"
      },
      "outputs": [
        {
          "data": {
            "text/plain": [
              "array([2, 3])"
            ]
          },
          "execution_count": 120,
          "metadata": {},
          "output_type": "execute_result"
        }
      ],
      "source": [
        "A[1:3]"
      ]
    },
    {
      "cell_type": "markdown",
      "metadata": {
        "id": "-p4bRUUd_5vY"
      },
      "source": [
        "Срезы массива являются *изменяемыми (mutable)*: если им присвоено новое значение, то исходный массив, из которого был извлечен срез, изменяется:"
      ]
    },
    {
      "cell_type": "code",
      "execution_count": null,
      "metadata": {
        "id": "qgFIarP6_5vY",
        "outputId": "a618568d-1811-41c5-d941-96a62ad52cfb"
      },
      "outputs": [
        {
          "data": {
            "text/plain": [
              "array([ 1, -2, -3,  4,  5])"
            ]
          },
          "execution_count": 121,
          "metadata": {},
          "output_type": "execute_result"
        }
      ],
      "source": [
        "A[1:3] = [-2,-3]\n",
        "\n",
        "A"
      ]
    },
    {
      "cell_type": "markdown",
      "metadata": {
        "id": "9jNNi4Mn_5vY"
      },
      "source": [
        "Можно не указывать любой из трех параметров среза`M[нижний индекс:верхний индекс:шаг]`:"
      ]
    },
    {
      "cell_type": "code",
      "execution_count": null,
      "metadata": {
        "id": "WDsXpRJ3_5vY",
        "outputId": "b77b289c-9f1b-4b30-bdcf-5b1db63d1416"
      },
      "outputs": [
        {
          "data": {
            "text/plain": [
              "array([ 1, -2, -3,  4,  5])"
            ]
          },
          "execution_count": 122,
          "metadata": {},
          "output_type": "execute_result"
        }
      ],
      "source": [
        "A[::] # нижний, верхний индексы и шаг (=1) принимают значения по умолчанию"
      ]
    },
    {
      "cell_type": "code",
      "execution_count": null,
      "metadata": {
        "id": "YI9lkiUe_5vY",
        "outputId": "ab729b0a-2b22-487c-8e85-91dbcb40773c"
      },
      "outputs": [
        {
          "data": {
            "text/plain": [
              "array([ 1, -3,  5])"
            ]
          },
          "execution_count": 123,
          "metadata": {},
          "output_type": "execute_result"
        }
      ],
      "source": [
        "A[::2] # шаг равен 2, нижний и верхний индексы принимают значения начала и конца массива"
      ]
    },
    {
      "cell_type": "code",
      "execution_count": null,
      "metadata": {
        "id": "gsZe0wCG_5vY",
        "outputId": "c4d40663-0904-4e74-afe2-4634184e43f5"
      },
      "outputs": [
        {
          "data": {
            "text/plain": [
              "array([ 1, -2, -3])"
            ]
          },
          "execution_count": 124,
          "metadata": {},
          "output_type": "execute_result"
        }
      ],
      "source": [
        "A[:3] # первые три элемента"
      ]
    },
    {
      "cell_type": "code",
      "execution_count": null,
      "metadata": {
        "id": "tsXF19i__5vZ",
        "outputId": "c0dbf035-bc18-42ba-c31a-4a4298e3afcd"
      },
      "outputs": [
        {
          "data": {
            "text/plain": [
              "array([4, 5])"
            ]
          },
          "execution_count": 125,
          "metadata": {},
          "output_type": "execute_result"
        }
      ],
      "source": [
        "A[3:] # элементы с индекса 3"
      ]
    },
    {
      "cell_type": "markdown",
      "metadata": {
        "id": "SAwY1JfG_5vZ"
      },
      "source": [
        "Отрицательные индексы отсчитываются с конца массива (положительные - с начала):"
      ]
    },
    {
      "cell_type": "code",
      "execution_count": null,
      "metadata": {
        "id": "O3DI9i03_5vZ"
      },
      "outputs": [],
      "source": [
        "A = array([1,2,3,4,5])"
      ]
    },
    {
      "cell_type": "code",
      "execution_count": null,
      "metadata": {
        "id": "NX4zLmmK_5vZ",
        "outputId": "fc418107-a782-4c03-97a9-282437438280"
      },
      "outputs": [
        {
          "data": {
            "text/plain": [
              "5"
            ]
          },
          "execution_count": 127,
          "metadata": {},
          "output_type": "execute_result"
        }
      ],
      "source": [
        "A[-1] # последний элемент массива"
      ]
    },
    {
      "cell_type": "code",
      "execution_count": null,
      "metadata": {
        "id": "nisvcjKH_5vZ",
        "outputId": "f9f974e0-f2e0-45cf-ed04-48e76955b3c3"
      },
      "outputs": [
        {
          "data": {
            "text/plain": [
              "array([3, 4, 5])"
            ]
          },
          "execution_count": 128,
          "metadata": {},
          "output_type": "execute_result"
        }
      ],
      "source": [
        "A[-3:] # последние 3 элемента"
      ]
    },
    {
      "cell_type": "markdown",
      "metadata": {
        "id": "dgyCkp66_5va"
      },
      "source": [
        "Индексный срез работает точно так же для многомерных массивов:"
      ]
    },
    {
      "cell_type": "code",
      "execution_count": null,
      "metadata": {
        "id": "itqPemhH_5va",
        "outputId": "eca69980-b16a-49b1-96e5-7abce30c6122",
        "colab": {
          "base_uri": "https://localhost:8080/"
        }
      },
      "outputs": [
        {
          "output_type": "execute_result",
          "data": {
            "text/plain": [
              "array([[ 0,  1,  2,  3,  4],\n",
              "       [10, 11, 12, 13, 14],\n",
              "       [20, 21, 22, 23, 24],\n",
              "       [30, 31, 32, 33, 34],\n",
              "       [40, 41, 42, 43, 44]])"
            ]
          },
          "metadata": {},
          "execution_count": 46
        }
      ],
      "source": [
        "A = array([[n+m*10 for n in range(5)] for m in range(5)])\n",
        "\n",
        "A"
      ]
    },
    {
      "cell_type": "code",
      "execution_count": null,
      "metadata": {
        "id": "_yl6iVRZ_5va",
        "outputId": "2361f02c-4185-42bc-f494-6ded59c78a68"
      },
      "outputs": [
        {
          "data": {
            "text/plain": [
              "array([[11, 12, 13],\n",
              "       [21, 22, 23],\n",
              "       [31, 32, 33]])"
            ]
          },
          "execution_count": 130,
          "metadata": {},
          "output_type": "execute_result"
        }
      ],
      "source": [
        "# часть массива\n",
        "A[1:4, 1:4]"
      ]
    },
    {
      "cell_type": "code",
      "execution_count": null,
      "metadata": {
        "id": "rhuZrZ2Y_5va",
        "outputId": "f9be9bd5-f24e-4ed9-c9f7-0a95155fbba9"
      },
      "outputs": [
        {
          "data": {
            "text/plain": [
              "array([[ 0,  2,  4],\n",
              "       [20, 22, 24],\n",
              "       [40, 42, 44]])"
            ]
          },
          "execution_count": 131,
          "metadata": {},
          "output_type": "execute_result"
        }
      ],
      "source": [
        "# пошаговое извлечение\n",
        "A[::2, ::2]"
      ]
    },
    {
      "cell_type": "markdown",
      "metadata": {
        "id": "ZH_5E4MY_5va"
      },
      "source": [
        "### Задание 4\n",
        "Используя срезы извлеките нечетные элементы матрицы А. "
      ]
    },
    {
      "cell_type": "code",
      "source": [
        "for i in A[0::1]:\n",
        "  print(i[1::2])"
      ],
      "metadata": {
        "colab": {
          "base_uri": "https://localhost:8080/"
        },
        "id": "kJXFZWX0p3cP",
        "outputId": "2fc88629-157f-4c80-97e7-c2746aade1b9"
      },
      "execution_count": null,
      "outputs": [
        {
          "output_type": "stream",
          "name": "stdout",
          "text": [
            "[1 3]\n",
            "[11 13]\n",
            "[21 23]\n",
            "[31 33]\n",
            "[41 43]\n"
          ]
        }
      ]
    },
    {
      "cell_type": "markdown",
      "metadata": {
        "id": "v8VFShw2_5va"
      },
      "source": [
        "### Необычное индексирование"
      ]
    },
    {
      "cell_type": "markdown",
      "metadata": {
        "id": "NLlVCwqP_5vb"
      },
      "source": [
        "О необычном индексировании говорят, когда массив или список используется в качестве индекса: "
      ]
    },
    {
      "cell_type": "code",
      "execution_count": null,
      "metadata": {
        "id": "suAefTlT_5vb",
        "outputId": "68f7eb14-d270-4fc2-f5d7-3522ddc1f6e0"
      },
      "outputs": [
        {
          "data": {
            "text/plain": [
              "array([[10, 11, 12, 13, 14],\n",
              "       [20, 21, 22, 23, 24],\n",
              "       [30, 31, 32, 33, 34]])"
            ]
          },
          "execution_count": 132,
          "metadata": {},
          "output_type": "execute_result"
        }
      ],
      "source": [
        "row_indices = [1, 2, 3]\n",
        "A[row_indices]"
      ]
    },
    {
      "cell_type": "code",
      "execution_count": null,
      "metadata": {
        "id": "p0nvTvn3_5vb",
        "outputId": "13fbb306-982a-4ccc-dac6-7542eb5b3e4e"
      },
      "outputs": [
        {
          "data": {
            "text/plain": [
              "array([[ 1,  2,  4],\n",
              "       [11, 12, 14],\n",
              "       [21, 22, 24],\n",
              "       [31, 32, 34],\n",
              "       [41, 42, 44]])"
            ]
          },
          "execution_count": 4,
          "metadata": {},
          "output_type": "execute_result"
        }
      ],
      "source": [
        "col_indices = [1, 2, -1] # вспомним, что -1 это последний элемент\n",
        "A[:,col_indices]"
      ]
    },
    {
      "cell_type": "markdown",
      "metadata": {
        "id": "2Ao78aMs_5vb"
      },
      "source": [
        "Можно также использовать индексные маски: Если индексная маска представляет собой массив Numpy типа данных `bool`, то элемент выбирается (True) или нет (False) в зависимости от значения индексной маски в позиции каждого элемента:"
      ]
    },
    {
      "cell_type": "code",
      "execution_count": null,
      "metadata": {
        "id": "ORAK3rX-_5vb",
        "outputId": "ff6bf461-58aa-4c6a-e8ab-f42e3974ecee"
      },
      "outputs": [
        {
          "data": {
            "text/plain": [
              "array([0, 1, 2, 3, 4])"
            ]
          },
          "execution_count": 134,
          "metadata": {},
          "output_type": "execute_result"
        }
      ],
      "source": [
        "B = array([n for n in range(5)])\n",
        "B"
      ]
    },
    {
      "cell_type": "code",
      "execution_count": null,
      "metadata": {
        "id": "bFgE3TZS_5vc",
        "outputId": "7f1c1b18-26e7-4ce3-d0ca-3b5f5314b0c3"
      },
      "outputs": [
        {
          "data": {
            "text/plain": [
              "array([0, 2])"
            ]
          },
          "execution_count": 135,
          "metadata": {},
          "output_type": "execute_result"
        }
      ],
      "source": [
        "row_mask = array([True, False, True, False, False])\n",
        "B[row_mask]"
      ]
    },
    {
      "cell_type": "code",
      "execution_count": null,
      "metadata": {
        "id": "9M5mJN-5_5vc",
        "outputId": "73ce1b51-0192-46ba-da54-79bfbebd0301"
      },
      "outputs": [
        {
          "data": {
            "text/plain": [
              "array([0, 2])"
            ]
          },
          "execution_count": 136,
          "metadata": {},
          "output_type": "execute_result"
        }
      ],
      "source": [
        "# тот же результат\n",
        "row_mask = array([1,0,1,0,0], dtype=bool)\n",
        "B[row_mask]"
      ]
    },
    {
      "cell_type": "markdown",
      "metadata": {
        "id": "eNzgVqs5_5vc"
      },
      "source": [
        "Эта функция очень полезна для условного выбора элементов из массива, используя, например, операторы сравнения:"
      ]
    },
    {
      "cell_type": "code",
      "execution_count": null,
      "metadata": {
        "id": "TevU1qbz_5vc",
        "outputId": "bdd9a2ee-c403-4436-a63c-a6667294d5e7"
      },
      "outputs": [
        {
          "data": {
            "text/plain": [
              "array([0. , 0.5, 1. , 1.5, 2. , 2.5, 3. , 3.5, 4. , 4.5, 5. , 5.5, 6. ,\n",
              "       6.5, 7. , 7.5, 8. , 8.5, 9. , 9.5])"
            ]
          },
          "execution_count": 137,
          "metadata": {},
          "output_type": "execute_result"
        }
      ],
      "source": [
        "x = arange(0, 10, 0.5)\n",
        "x"
      ]
    },
    {
      "cell_type": "code",
      "execution_count": null,
      "metadata": {
        "id": "_hB418AO_5vc",
        "outputId": "147499a2-57a4-4a01-8310-88c2fa51b5b2"
      },
      "outputs": [
        {
          "data": {
            "text/plain": [
              "array([False, False, False, False, False, False, False, False, False,\n",
              "       False, False,  True,  True,  True,  True, False, False, False,\n",
              "       False, False])"
            ]
          },
          "execution_count": 138,
          "metadata": {},
          "output_type": "execute_result"
        }
      ],
      "source": [
        "mask = (5 < x) * (x < 7.5)\n",
        "\n",
        "mask"
      ]
    },
    {
      "cell_type": "code",
      "execution_count": null,
      "metadata": {
        "id": "kVygLkgi_5vd",
        "outputId": "6e01cb0c-ec3d-4682-9fc0-479e1a0671b0"
      },
      "outputs": [
        {
          "data": {
            "text/plain": [
              "array([5.5, 6. , 6.5, 7. ])"
            ]
          },
          "execution_count": 139,
          "metadata": {},
          "output_type": "execute_result"
        }
      ],
      "source": [
        "x[mask]"
      ]
    },
    {
      "cell_type": "markdown",
      "metadata": {
        "id": "a9PklgQ9_5vd"
      },
      "source": [
        "### Задание 5\n",
        "Используйте массив из задания 1 (таблицу умножения) извлеките из него при помощи маски все числа кратные 3. "
      ]
    },
    {
      "cell_type": "code",
      "source": [
        "mask = (final_res % 3 == 0)\n",
        "\n",
        "print(array(final_res[mask]))"
      ],
      "metadata": {
        "colab": {
          "base_uri": "https://localhost:8080/"
        },
        "id": "H1gcJAgRufTi",
        "outputId": "83e7f521-0573-48b8-da7e-e0b593df0e77"
      },
      "execution_count": null,
      "outputs": [
        {
          "output_type": "stream",
          "name": "stdout",
          "text": [
            "[ 3  6  9  6 12 18  3  6  9 12 15 18 21 24 27 12 24 36 15 30 45  6 12 18\n",
            " 24 30 36 42 48 54 21 42 63 24 48 72  9 18 27 36 45 54 63 72 81]\n"
          ]
        }
      ]
    },
    {
      "cell_type": "markdown",
      "metadata": {
        "id": "BLGOZs3m_5vd"
      },
      "source": [
        "## Функции для извлечения данных из массивов и создания массивов"
      ]
    },
    {
      "cell_type": "markdown",
      "metadata": {
        "id": "QjQ0hcnH_5vd"
      },
      "source": [
        "### Функция where"
      ]
    },
    {
      "cell_type": "markdown",
      "metadata": {
        "id": "JNENom_S_5vd"
      },
      "source": [
        "Индексную маску можно превратить в список индексов, используя `where`:"
      ]
    },
    {
      "cell_type": "code",
      "execution_count": null,
      "metadata": {
        "id": "spkwALHO_5vd",
        "outputId": "f8f686f6-13ea-4fdf-b705-9562d834a26f"
      },
      "outputs": [
        {
          "data": {
            "text/plain": [
              "(array([11, 12, 13, 14], dtype=int64),)"
            ]
          },
          "execution_count": 140,
          "metadata": {},
          "output_type": "execute_result"
        }
      ],
      "source": [
        "indices = where(mask)\n",
        "\n",
        "indices"
      ]
    },
    {
      "cell_type": "code",
      "execution_count": null,
      "metadata": {
        "id": "ctTjttDB_5ve",
        "outputId": "0caa807d-6ffd-4087-e127-a35fa545267e"
      },
      "outputs": [
        {
          "data": {
            "text/plain": [
              "array([5.5, 6. , 6.5, 7. ])"
            ]
          },
          "execution_count": 141,
          "metadata": {},
          "output_type": "execute_result"
        }
      ],
      "source": [
        "x[indices] # действие этого списка эквивалентно маске, т.е. x[mask]"
      ]
    },
    {
      "cell_type": "markdown",
      "metadata": {
        "id": "ageuxfLQ_5ve"
      },
      "source": [
        "### Функция diag"
      ]
    },
    {
      "cell_type": "markdown",
      "metadata": {
        "id": "TGWyn_8e_5ve"
      },
      "source": [
        "При помощи функции diag можно извлекать диагональные элементы с главной и смещенных диагоналей:"
      ]
    },
    {
      "cell_type": "code",
      "execution_count": null,
      "metadata": {
        "id": "fHnryHcj_5ve",
        "outputId": "0be6528f-1fb2-413e-8069-7da7f779d32e"
      },
      "outputs": [
        {
          "data": {
            "text/plain": [
              "array([ 0, 11, 22, 33, 44])"
            ]
          },
          "execution_count": 142,
          "metadata": {},
          "output_type": "execute_result"
        }
      ],
      "source": [
        "diag(A)"
      ]
    },
    {
      "cell_type": "code",
      "execution_count": null,
      "metadata": {
        "id": "vMF42XHx_5ve",
        "outputId": "0877d874-64b6-4318-b41e-8441e80498a3"
      },
      "outputs": [
        {
          "data": {
            "text/plain": [
              "array([10, 21, 32, 43])"
            ]
          },
          "execution_count": 143,
          "metadata": {},
          "output_type": "execute_result"
        }
      ],
      "source": [
        "diag(A, -1)"
      ]
    },
    {
      "cell_type": "markdown",
      "metadata": {
        "id": "vQcuot-p_5vf"
      },
      "source": [
        "### Функция take"
      ]
    },
    {
      "cell_type": "markdown",
      "metadata": {
        "id": "hZpGR_8O_5vf"
      },
      "source": [
        "Функция `take` подобна описанной выше необычной индексации:"
      ]
    },
    {
      "cell_type": "code",
      "execution_count": null,
      "metadata": {
        "id": "Jrj9rAXS_5vf",
        "outputId": "39526d31-4dfe-4fba-f520-4dbf0075902c"
      },
      "outputs": [
        {
          "data": {
            "text/plain": [
              "array([-3, -2, -1,  0,  1,  2])"
            ]
          },
          "execution_count": 144,
          "metadata": {},
          "output_type": "execute_result"
        }
      ],
      "source": [
        "v2 = arange(-3,3)\n",
        "v2"
      ]
    },
    {
      "cell_type": "code",
      "execution_count": null,
      "metadata": {
        "id": "xPmJEi2L_5vf",
        "outputId": "456a64f7-d0dd-4f22-a03c-c6c36e81f85e"
      },
      "outputs": [
        {
          "data": {
            "text/plain": [
              "array([-2,  0,  2])"
            ]
          },
          "execution_count": 145,
          "metadata": {},
          "output_type": "execute_result"
        }
      ],
      "source": [
        "row_indices = [1, 3, 5]\n",
        "v2[row_indices] # необычная индексация"
      ]
    },
    {
      "cell_type": "code",
      "execution_count": null,
      "metadata": {
        "id": "yVLMkqLj_5vf",
        "outputId": "831b6fa5-2142-488b-c350-958c99cfd574"
      },
      "outputs": [
        {
          "data": {
            "text/plain": [
              "array([-2,  0,  2])"
            ]
          },
          "execution_count": 146,
          "metadata": {},
          "output_type": "execute_result"
        }
      ],
      "source": [
        "v2.take(row_indices)"
      ]
    },
    {
      "cell_type": "markdown",
      "metadata": {
        "id": "ebb_8gr8_5vf"
      },
      "source": [
        "Но функция `take` так же работает на списках и других объектах:"
      ]
    },
    {
      "cell_type": "code",
      "execution_count": null,
      "metadata": {
        "id": "-llO87z0_5vg",
        "outputId": "103a93ff-5447-4104-b5bf-0e3eba6594e5"
      },
      "outputs": [
        {
          "data": {
            "text/plain": [
              "array([-2,  0,  2])"
            ]
          },
          "execution_count": 147,
          "metadata": {},
          "output_type": "execute_result"
        }
      ],
      "source": [
        "take([-3, -2, -1,  0,  1,  2], row_indices)"
      ]
    },
    {
      "cell_type": "markdown",
      "metadata": {
        "id": "-3vdU5zn_5vg"
      },
      "source": [
        "### Функция choose"
      ]
    },
    {
      "cell_type": "markdown",
      "metadata": {
        "id": "sm0ICd94_5vg"
      },
      "source": [
        "Создает массив собирая элементы из нескольких массивов:"
      ]
    },
    {
      "cell_type": "code",
      "execution_count": null,
      "metadata": {
        "id": "5fvTBm9i_5vg",
        "outputId": "b5e93f35-75a9-4bca-9cbc-995059019a63"
      },
      "outputs": [
        {
          "data": {
            "text/plain": [
              "array([ 5, -2,  5, -2])"
            ]
          },
          "execution_count": 148,
          "metadata": {},
          "output_type": "execute_result"
        }
      ],
      "source": [
        "which = [1, 0, 1, 0]\n",
        "choices = [[-2,-2,-2,-2], [5,5,5,5]]\n",
        "\n",
        "choose(which, choices)"
      ]
    },
    {
      "cell_type": "markdown",
      "metadata": {
        "id": "LBl_l3yU_5vg"
      },
      "source": [
        "### Задание 7\n",
        "Разбить массив таблицы умножения из задания 1 на два массива содержащие четные и нечетные значения, а затем собрать его в исходное состояние используя choose()"
      ]
    },
    {
      "cell_type": "code",
      "source": [
        "odd_mask = (final_res % 2 != 0)\n",
        "even_mask =  (final_res % 2 == 0)\n",
        "odd = final_res[odd_mask]\n",
        "even = final_res[even_mask]\n",
        "dump = []\n",
        "limit = 9\n",
        "\n",
        "for i in range(len(odd)):\n",
        "  if odd[i-1] % limit == 0 and odd[i] > 1:\n",
        "    for _ in range(8):\n",
        "      dump.append(0)\n",
        "    limit += 18\n",
        "  dump.append(odd[i])\n",
        "  dump.append(0)\n",
        "for i in range(30):\n",
        "  dump.append(0)\n",
        "\n",
        "odd = array(dump, dtype=int)\n",
        "\n",
        "which = []\n",
        "for i in range(len(odd)):\n",
        "  if odd[i] == 0:\n",
        "    which.append(1)\n",
        "  else:\n",
        "    which.append(0)\n",
        "\n",
        "which = array(which)\n",
        "pos = 0\n",
        "dump = []\n",
        "\n",
        "for i in range(len(which)):\n",
        "  if odd[i] != 0 :\n",
        "    dump.append(0)\n",
        "  elif pos != len(even):\n",
        "    dump.append(even[pos])\n",
        "    pos += 1\n",
        "\n",
        "for _ in range(31):\n",
        "  dump.append(0)\n",
        "\n",
        "even = array(dump)\n",
        "choices = [odd, even]\n",
        "res = choose(which, choices)\n",
        "res = [i for i in res if i != 0]\n",
        "res = reshape(res, (-1, 9))\n",
        "print(f'Результат:\\n{res}')\n",
        "\n",
        "#ctrl+shift+h"
      ],
      "metadata": {
        "colab": {
          "base_uri": "https://localhost:8080/"
        },
        "id": "erNDnFmk6Ve_",
        "outputId": "b6d5e023-f6fd-4a99-817f-0309fe2869e0"
      },
      "execution_count": null,
      "outputs": [
        {
          "output_type": "stream",
          "name": "stdout",
          "text": [
            "Результат:\n",
            "[[ 1  2  3  4  5  6  7  8  9]\n",
            " [ 2  4  6  8 10 12 14 16 18]\n",
            " [ 3  6  9 12 15 18 21 24 27]\n",
            " [ 4  8 12 16 20 24 28 32 36]\n",
            " [ 5 10 15 20 25 30 35 40 45]\n",
            " [ 6 12 18 24 30 36 42 48 54]\n",
            " [ 7 14 21 28 35 42 49 56 63]\n",
            " [ 8 16 24 32 40 48 56 64 72]\n",
            " [ 9 18 27 36 45 54 63 72 81]]\n"
          ]
        }
      ]
    },
    {
      "cell_type": "code",
      "source": [
        "mask = (final_res%1==0)\n",
        "B_chet = final_res[mask]\n",
        "B_nechet = final_res[mask]\n",
        "\n",
        "for i in range(len(B_chet)):\n",
        "  if B_chet[i]%2 != 0:\n",
        "    B_chet[i] = 0\n",
        "\n",
        "for i in range(len(B_nechet)):\n",
        "  if B_nechet[i]%2 == 0:\n",
        "    B_nechet[i] = 0\n",
        "    posledovat = zeros(81, dtype=int)\n",
        "    posledovat\n",
        "j = 0\n",
        "for i in range(len(posledovat)):\n",
        "  if i%2 == 0 and j == 0:\n",
        "    posledovat[i] = 1\n",
        "  if 8 < i < 17 or 26 < i < 35 or 44 < i < 53 or 62 < i < 71:\n",
        "    j = 1\n",
        "  else:\n",
        "    j = 0\n",
        "\n",
        "choices = [B_chet, B_nechet]\n",
        "R = choose(posledovat, choices)\n",
        "R.reshape((9,9))"
      ],
      "metadata": {
        "colab": {
          "base_uri": "https://localhost:8080/"
        },
        "id": "OcbXUT4ziyFW",
        "outputId": "29512ef6-e263-4b8d-d419-6ef601217bde"
      },
      "execution_count": null,
      "outputs": [
        {
          "output_type": "execute_result",
          "data": {
            "text/plain": [
              "array([[ 1,  2,  3,  4,  5,  6,  7,  8,  9],\n",
              "       [ 2,  4,  6,  8, 10, 12, 14, 16, 18],\n",
              "       [ 3,  6,  9, 12, 15, 18, 21, 24, 27],\n",
              "       [ 4,  8, 12, 16, 20, 24, 28, 32, 36],\n",
              "       [ 5, 10, 15, 20, 25, 30, 35, 40, 45],\n",
              "       [ 6, 12, 18, 24, 30, 36, 42, 48, 54],\n",
              "       [ 7, 14, 21, 28, 35, 42, 49, 56, 63],\n",
              "       [ 8, 16, 24, 32, 40, 48, 56, 64, 72],\n",
              "       [ 9, 18, 27, 36, 45, 54, 63, 72, 81]])"
            ]
          },
          "metadata": {},
          "execution_count": 11
        }
      ]
    },
    {
      "cell_type": "markdown",
      "metadata": {
        "id": "BZoxRH8w_5vg"
      },
      "source": [
        "## Линейная алгебра"
      ]
    },
    {
      "cell_type": "markdown",
      "metadata": {
        "id": "oJuhJsIt_5vh"
      },
      "source": [
        "Векторизация кода-это ключ к написанию эффективных численных вычислений с помощью Python / Numpy. Это означает, что максимально возможная часть программы должна быть сформулирована в терминах матричных и векторных операций, таких как матричного умножения."
      ]
    },
    {
      "cell_type": "markdown",
      "metadata": {
        "id": "IET35wE7_5vh"
      },
      "source": [
        "### Операции между числами и векторами"
      ]
    },
    {
      "cell_type": "markdown",
      "metadata": {
        "id": "kuEsT5ar_5vh"
      },
      "source": [
        "Мы можем использовать обычные арифметические операторы для умножения, сложения, вычитания и деления массивов со скалярами или обычными числами."
      ]
    },
    {
      "cell_type": "code",
      "execution_count": null,
      "metadata": {
        "id": "RP9B7OPv_5vh"
      },
      "outputs": [],
      "source": [
        "v1 = arange(0, 5)"
      ]
    },
    {
      "cell_type": "code",
      "execution_count": null,
      "metadata": {
        "id": "daI-XSZX_5vh",
        "outputId": "6b456ea5-8ed2-4694-bfbe-7def4d512887"
      },
      "outputs": [
        {
          "data": {
            "text/plain": [
              "array([0, 2, 4, 6, 8])"
            ]
          },
          "execution_count": 150,
          "metadata": {},
          "output_type": "execute_result"
        }
      ],
      "source": [
        "v1 * 2"
      ]
    },
    {
      "cell_type": "code",
      "execution_count": null,
      "metadata": {
        "id": "K_6rKDXB_5vi",
        "outputId": "82cbbf5e-d98c-403d-e41c-c02f3bd3f44b"
      },
      "outputs": [
        {
          "data": {
            "text/plain": [
              "array([2, 3, 4, 5, 6])"
            ]
          },
          "execution_count": 151,
          "metadata": {},
          "output_type": "execute_result"
        }
      ],
      "source": [
        "v1 + 2"
      ]
    },
    {
      "cell_type": "code",
      "execution_count": null,
      "metadata": {
        "id": "AJGK7Qp8_5vi",
        "outputId": "f304f8e7-274e-4021-d791-d83417c00ef0"
      },
      "outputs": [
        {
          "data": {
            "text/plain": [
              "(array([[ 0,  2,  4,  6,  8],\n",
              "        [20, 22, 24, 26, 28],\n",
              "        [40, 42, 44, 46, 48],\n",
              "        [60, 62, 64, 66, 68],\n",
              "        [80, 82, 84, 86, 88]]),\n",
              " array([[ 2,  3,  4,  5,  6],\n",
              "        [12, 13, 14, 15, 16],\n",
              "        [22, 23, 24, 25, 26],\n",
              "        [32, 33, 34, 35, 36],\n",
              "        [42, 43, 44, 45, 46]]))"
            ]
          },
          "execution_count": 152,
          "metadata": {},
          "output_type": "execute_result"
        }
      ],
      "source": [
        "A * 2, A + 2"
      ]
    },
    {
      "cell_type": "markdown",
      "metadata": {
        "id": "_9Tt-bYM_5vi"
      },
      "source": [
        "### Поэлементные операции между массивами"
      ]
    },
    {
      "cell_type": "markdown",
      "metadata": {
        "id": "0GoTWTU__5vi"
      },
      "source": [
        "Когда мы складываем, вычитаем, умножаем и делим массивы друг с другом, поведение по умолчанию-это операции **по элементам**, т.е. между элементами с совпадающими индексами:"
      ]
    },
    {
      "cell_type": "code",
      "execution_count": null,
      "metadata": {
        "id": "A-QgL19p_5vi",
        "outputId": "cf59e6b9-abf6-471e-f490-aef56246d6e5"
      },
      "outputs": [
        {
          "data": {
            "text/plain": [
              "array([[   0,    1,    4,    9,   16],\n",
              "       [ 100,  121,  144,  169,  196],\n",
              "       [ 400,  441,  484,  529,  576],\n",
              "       [ 900,  961, 1024, 1089, 1156],\n",
              "       [1600, 1681, 1764, 1849, 1936]])"
            ]
          },
          "execution_count": 153,
          "metadata": {},
          "output_type": "execute_result"
        }
      ],
      "source": [
        "A * A # поэлементное умножение"
      ]
    },
    {
      "cell_type": "code",
      "execution_count": null,
      "metadata": {
        "id": "V-V6Nvci_5vi",
        "outputId": "e4bb2c15-921e-49f6-ddcc-cb016fa5e949"
      },
      "outputs": [
        {
          "data": {
            "text/plain": [
              "array([ 0,  1,  4,  9, 16])"
            ]
          },
          "execution_count": 154,
          "metadata": {},
          "output_type": "execute_result"
        }
      ],
      "source": [
        "v1 * v1"
      ]
    },
    {
      "cell_type": "markdown",
      "metadata": {
        "id": "-36HTjCz_5vj"
      },
      "source": [
        "Если мы умножим массивы с совместимыми размерами, то получим элементарное умножение каждой строки:"
      ]
    },
    {
      "cell_type": "code",
      "execution_count": null,
      "metadata": {
        "id": "571yTQZy_5vj",
        "outputId": "421854ac-9218-4aa2-c003-2f0eb0149d81"
      },
      "outputs": [
        {
          "data": {
            "text/plain": [
              "((5, 5), (5,))"
            ]
          },
          "execution_count": 155,
          "metadata": {},
          "output_type": "execute_result"
        }
      ],
      "source": [
        "A.shape, v1.shape"
      ]
    },
    {
      "cell_type": "code",
      "execution_count": null,
      "metadata": {
        "id": "gulXpaX5_5vj",
        "outputId": "c5c7d480-d759-415b-872e-f326efaf28ef"
      },
      "outputs": [
        {
          "data": {
            "text/plain": [
              "array([[  0,   1,   4,   9,  16],\n",
              "       [  0,  11,  24,  39,  56],\n",
              "       [  0,  21,  44,  69,  96],\n",
              "       [  0,  31,  64,  99, 136],\n",
              "       [  0,  41,  84, 129, 176]])"
            ]
          },
          "execution_count": 156,
          "metadata": {},
          "output_type": "execute_result"
        }
      ],
      "source": [
        "A * v1"
      ]
    },
    {
      "cell_type": "markdown",
      "metadata": {
        "id": "4gB0Mxlm_5vj"
      },
      "source": [
        "### Алгебра матриц"
      ]
    },
    {
      "cell_type": "markdown",
      "metadata": {
        "id": "l-KRf96e_5vj"
      },
      "source": [
        "А как насчет умножения матриц? Есть два пути. Мы можем либо использовать функцию `dot`, которая применяет умножение матрица-матрица, матрица-вектор или скалярное векторное к своим двум аргументам:"
      ]
    },
    {
      "cell_type": "code",
      "execution_count": null,
      "metadata": {
        "id": "gf2SJBVZ_5vj",
        "outputId": "f08f6e04-7719-4d21-88ee-5244c178efcc"
      },
      "outputs": [
        {
          "data": {
            "text/plain": [
              "array([[ 300,  310,  320,  330,  340],\n",
              "       [1300, 1360, 1420, 1480, 1540],\n",
              "       [2300, 2410, 2520, 2630, 2740],\n",
              "       [3300, 3460, 3620, 3780, 3940],\n",
              "       [4300, 4510, 4720, 4930, 5140]])"
            ]
          },
          "execution_count": 157,
          "metadata": {},
          "output_type": "execute_result"
        }
      ],
      "source": [
        "dot(A, A)"
      ]
    },
    {
      "cell_type": "code",
      "execution_count": null,
      "metadata": {
        "id": "1CvJprM0_5vk"
      },
      "outputs": [],
      "source": [
        "A@A"
      ]
    },
    {
      "cell_type": "code",
      "execution_count": null,
      "metadata": {
        "id": "gtajlL0n_5vk",
        "outputId": "864dc0eb-2dc9-404d-d022-39049dc22edd"
      },
      "outputs": [
        {
          "data": {
            "text/plain": [
              "array([ 30, 130, 230, 330, 430])"
            ]
          },
          "execution_count": 158,
          "metadata": {},
          "output_type": "execute_result"
        }
      ],
      "source": [
        "dot(A, v1)"
      ]
    },
    {
      "cell_type": "code",
      "execution_count": null,
      "metadata": {
        "id": "TqTkCc1w_5vk",
        "outputId": "4a064852-5f44-4f4b-b198-efd4b6860599"
      },
      "outputs": [
        {
          "data": {
            "text/plain": [
              "30"
            ]
          },
          "execution_count": 159,
          "metadata": {},
          "output_type": "execute_result"
        }
      ],
      "source": [
        "dot(v1, v1)"
      ]
    },
    {
      "cell_type": "markdown",
      "metadata": {
        "id": "_z7ASR7k_5vk"
      },
      "source": [
        "В качестве альтернативы мы можем привести объекты типа массива к типу `matrix`. Это изменяет поведение стандартных арифметических операторов `+, -, *` для использования алгебры матриц."
      ]
    },
    {
      "cell_type": "code",
      "execution_count": null,
      "metadata": {
        "id": "qD6wwDTt_5vk"
      },
      "outputs": [],
      "source": [
        "M = matrix(A)\n",
        "v = matrix(v1).T # транспонирует массив в вектор столбец"
      ]
    },
    {
      "cell_type": "code",
      "execution_count": null,
      "metadata": {
        "id": "R_P6FxVn_5vk",
        "outputId": "b551bf16-b64c-45f8-e0d1-1269e2a972d5"
      },
      "outputs": [
        {
          "data": {
            "text/plain": [
              "matrix([[0],\n",
              "        [1],\n",
              "        [2],\n",
              "        [3],\n",
              "        [4]])"
            ]
          },
          "execution_count": 161,
          "metadata": {},
          "output_type": "execute_result"
        }
      ],
      "source": [
        "v"
      ]
    },
    {
      "cell_type": "code",
      "execution_count": null,
      "metadata": {
        "id": "T_P7s4Ae_5vl",
        "outputId": "548dc29a-4a5c-46d2-fb59-707b1af5b9c0"
      },
      "outputs": [
        {
          "data": {
            "text/plain": [
              "matrix([[ 300,  310,  320,  330,  340],\n",
              "        [1300, 1360, 1420, 1480, 1540],\n",
              "        [2300, 2410, 2520, 2630, 2740],\n",
              "        [3300, 3460, 3620, 3780, 3940],\n",
              "        [4300, 4510, 4720, 4930, 5140]])"
            ]
          },
          "execution_count": 162,
          "metadata": {},
          "output_type": "execute_result"
        }
      ],
      "source": [
        "M * M"
      ]
    },
    {
      "cell_type": "code",
      "execution_count": null,
      "metadata": {
        "id": "DwLIcJmQ_5vl",
        "outputId": "cc3427f1-ccd4-4f65-8f2f-9ce006ea32e6"
      },
      "outputs": [
        {
          "data": {
            "text/plain": [
              "matrix([[ 30],\n",
              "        [130],\n",
              "        [230],\n",
              "        [330],\n",
              "        [430]])"
            ]
          },
          "execution_count": 163,
          "metadata": {},
          "output_type": "execute_result"
        }
      ],
      "source": [
        "M * v"
      ]
    },
    {
      "cell_type": "code",
      "execution_count": null,
      "metadata": {
        "id": "J9WIx7Mc_5vl",
        "outputId": "f85b9ffb-1d71-4fc2-d05c-b35451631297"
      },
      "outputs": [
        {
          "data": {
            "text/plain": [
              "matrix([[30]])"
            ]
          },
          "execution_count": 164,
          "metadata": {},
          "output_type": "execute_result"
        }
      ],
      "source": [
        "# скалярное произведение\n",
        "v.T * v"
      ]
    },
    {
      "cell_type": "code",
      "execution_count": null,
      "metadata": {
        "id": "sFnb51ZR_5vl",
        "outputId": "5dc3928f-c328-4d11-f681-5985825e787c"
      },
      "outputs": [
        {
          "data": {
            "text/plain": [
              "matrix([[ 30],\n",
              "        [131],\n",
              "        [232],\n",
              "        [333],\n",
              "        [434]])"
            ]
          },
          "execution_count": 165,
          "metadata": {},
          "output_type": "execute_result"
        }
      ],
      "source": [
        "# с объектами типа matrix работают все операции\n",
        "v + M*v"
      ]
    },
    {
      "cell_type": "markdown",
      "metadata": {
        "id": "i7FT5RJs_5vl"
      },
      "source": [
        "Если использовать операции `+, -, *` с несовместимыми объектами будет выброс исключения или ошибки"
      ]
    },
    {
      "cell_type": "code",
      "execution_count": null,
      "metadata": {
        "id": "Ktchi31C_5vl"
      },
      "outputs": [],
      "source": [
        "v = matrix([1,2,3,4,5]).T"
      ]
    },
    {
      "cell_type": "code",
      "execution_count": null,
      "metadata": {
        "id": "-TnTorq3_5vm",
        "outputId": "2a57a910-26d7-4b29-d40d-3901256985f7"
      },
      "outputs": [
        {
          "data": {
            "text/plain": [
              "((5, 5), (5, 1))"
            ]
          },
          "execution_count": 167,
          "metadata": {},
          "output_type": "execute_result"
        }
      ],
      "source": [
        "shape(M), shape(v)"
      ]
    },
    {
      "cell_type": "code",
      "execution_count": null,
      "metadata": {
        "id": "T6Nr1zcw_5vm",
        "outputId": "f1d22797-e5f7-4a4d-8988-ec55c01ce6a3"
      },
      "outputs": [
        {
          "data": {
            "text/plain": [
              "matrix([[ 40],\n",
              "        [190],\n",
              "        [340],\n",
              "        [490],\n",
              "        [640]])"
            ]
          },
          "execution_count": 168,
          "metadata": {},
          "output_type": "execute_result"
        }
      ],
      "source": [
        "M * v"
      ]
    },
    {
      "cell_type": "markdown",
      "metadata": {
        "id": "dZ-p0yU7_5vm"
      },
      "source": [
        "Посмотрите также другие подобные функции: `inner`, `outer`, `cross`, `kron`, `tensordot`. Попробуйте набрать `help(kron)`."
      ]
    },
    {
      "cell_type": "markdown",
      "metadata": {
        "id": "BupsQkvF_5vm"
      },
      "source": [
        "### Преобразования массив/матрица"
      ]
    },
    {
      "cell_type": "markdown",
      "metadata": {
        "id": "yQnJKdH2_5vm"
      },
      "source": [
        "Выше мы уже использовали `.T` для транспонирования матричного объекта `v`. Мы также могли бы использовать функцию `transpose` для выполнения того же самого.\n",
        "\n",
        "Другими математическими функциями, преобразующими матричные объекты, являются:"
      ]
    },
    {
      "cell_type": "code",
      "execution_count": null,
      "metadata": {
        "id": "KOrW_dBL_5vm",
        "outputId": "2553fdfc-5120-4f9b-da73-f18851cecb46"
      },
      "outputs": [
        {
          "data": {
            "text/plain": [
              "matrix([[0.+1.j, 0.+2.j],\n",
              "        [0.+3.j, 0.+4.j]])"
            ]
          },
          "execution_count": 169,
          "metadata": {},
          "output_type": "execute_result"
        }
      ],
      "source": [
        "C = matrix([[1j, 2j], [3j, 4j]])\n",
        "C"
      ]
    },
    {
      "cell_type": "code",
      "execution_count": null,
      "metadata": {
        "id": "rOIzXsBn_5vn",
        "outputId": "4517d3cd-9e09-4739-c5e9-4aaeba8c5f3a"
      },
      "outputs": [
        {
          "data": {
            "text/plain": [
              "matrix([[0.-1.j, 0.-2.j],\n",
              "        [0.-3.j, 0.-4.j]])"
            ]
          },
          "execution_count": 170,
          "metadata": {},
          "output_type": "execute_result"
        }
      ],
      "source": [
        "conjugate(C)"
      ]
    },
    {
      "cell_type": "markdown",
      "metadata": {
        "id": "_ACFYCWy_5vn"
      },
      "source": [
        "Эрмитово сопряжение: `transpose + conjugate`"
      ]
    },
    {
      "cell_type": "code",
      "execution_count": null,
      "metadata": {
        "id": "rnxIKZIC_5vn",
        "outputId": "8183aee0-7674-4223-f30e-4e338a85b7eb"
      },
      "outputs": [
        {
          "data": {
            "text/plain": [
              "matrix([[0.-1.j, 0.-3.j],\n",
              "        [0.-2.j, 0.-4.j]])"
            ]
          },
          "execution_count": 171,
          "metadata": {},
          "output_type": "execute_result"
        }
      ],
      "source": [
        "C.H"
      ]
    },
    {
      "cell_type": "markdown",
      "metadata": {
        "id": "J_XEy0Qo_5vn"
      },
      "source": [
        "Можно извлекать действительную и мнимую часть комплексного объекта, используя `real` и `imag`:"
      ]
    },
    {
      "cell_type": "code",
      "execution_count": null,
      "metadata": {
        "id": "ZfUkAcvK_5vn",
        "outputId": "8946a833-07a6-4584-bb0c-a796f13dcfbd"
      },
      "outputs": [
        {
          "data": {
            "text/plain": [
              "matrix([[0., 0.],\n",
              "        [0., 0.]])"
            ]
          },
          "execution_count": 172,
          "metadata": {},
          "output_type": "execute_result"
        }
      ],
      "source": [
        "real(C) # то же, что и: C.real"
      ]
    },
    {
      "cell_type": "code",
      "execution_count": null,
      "metadata": {
        "id": "hxd3NoU8_5vn",
        "outputId": "4c110607-53ff-4e6d-d59f-4b1bc2eed440"
      },
      "outputs": [
        {
          "data": {
            "text/plain": [
              "matrix([[1., 2.],\n",
              "        [3., 4.]])"
            ]
          },
          "execution_count": 173,
          "metadata": {},
          "output_type": "execute_result"
        }
      ],
      "source": [
        "imag(C) # то же, что и: C.imag"
      ]
    },
    {
      "cell_type": "markdown",
      "metadata": {
        "id": "rsIK63N2_5vo"
      },
      "source": [
        "Или комплексный аргумент(угол) и модуль"
      ]
    },
    {
      "cell_type": "code",
      "execution_count": null,
      "metadata": {
        "id": "SgnQzDQg_5vo",
        "outputId": "1314f9c4-1a52-484c-f95b-76690c05b09c"
      },
      "outputs": [
        {
          "data": {
            "text/plain": [
              "matrix([[0.78539816, 1.10714872],\n",
              "        [1.24904577, 1.32581766]])"
            ]
          },
          "execution_count": 174,
          "metadata": {},
          "output_type": "execute_result"
        }
      ],
      "source": [
        "angle(C+1) # для пользователей MATLAB, angle используется вместо arg"
      ]
    },
    {
      "cell_type": "code",
      "execution_count": null,
      "metadata": {
        "id": "CxVaLanh_5vo",
        "outputId": "33332c5e-fce6-48f2-d6e4-a82b4390f079"
      },
      "outputs": [
        {
          "data": {
            "text/plain": [
              "matrix([[1., 2.],\n",
              "        [3., 4.]])"
            ]
          },
          "execution_count": 175,
          "metadata": {},
          "output_type": "execute_result"
        }
      ],
      "source": [
        "abs(C)"
      ]
    },
    {
      "cell_type": "markdown",
      "metadata": {
        "id": "yTuMmj5F_5vo"
      },
      "source": [
        "### Задание 8\n",
        "Даны вектора v1(0,1,2,3,4) v2(5,6,7,8,9) найти угол между ними, учитывая что косинус угла между векторами можно найти как отношения их скалярного произведения к их длинам."
      ]
    },
    {
      "cell_type": "code",
      "source": [
        "v1 = arange(0,5)\n",
        "v2 = arange(5, 10)\n",
        "\n",
        "cos_v1_v2 = dot(v1, v2)/linalg.norm(v1)/linalg.norm(v2)\n",
        "print(cos_v1_v2)\n",
        "angle = arccos(clip(cos_v1_v2, -1, 1))\n",
        "print(angle)"
      ],
      "metadata": {
        "colab": {
          "base_uri": "https://localhost:8080/"
        },
        "id": "m3Df4fJNE0hs",
        "outputId": "ed6dbd2e-4fc1-46b9-feca-4d48f437faec"
      },
      "execution_count": null,
      "outputs": [
        {
          "output_type": "stream",
          "name": "stdout",
          "text": [
            "0.9146591207600472\n",
            "0.41613250096978566\n"
          ]
        }
      ]
    },
    {
      "cell_type": "markdown",
      "metadata": {
        "id": "2C-MDA9Q_5vo"
      },
      "source": [
        "### Вычисления над матрицами"
      ]
    },
    {
      "cell_type": "markdown",
      "metadata": {
        "id": "Nj1F2_Lg_5vo"
      },
      "source": [
        "#### Функция Inv - инверсия"
      ]
    },
    {
      "cell_type": "code",
      "execution_count": null,
      "metadata": {
        "id": "Yfp3eFUs_5vo",
        "outputId": "489b911a-d38e-4ee1-ccc7-cdc6d2abfd3a"
      },
      "outputs": [
        {
          "data": {
            "text/plain": [
              "matrix([[0.+2.j , 0.-1.j ],\n",
              "        [0.-1.5j, 0.+0.5j]])"
            ]
          },
          "execution_count": 176,
          "metadata": {},
          "output_type": "execute_result"
        }
      ],
      "source": [
        "linalg.inv(C) # эквивалентно C.I "
      ]
    },
    {
      "cell_type": "code",
      "execution_count": null,
      "metadata": {
        "id": "jLBGSg5w_5vp",
        "outputId": "5db138d8-b112-488a-e442-24dd0c4e1744"
      },
      "outputs": [
        {
          "data": {
            "text/plain": [
              "matrix([[1.0000000e+00+0.j, 8.8817842e-16+0.j],\n",
              "        [0.0000000e+00+0.j, 1.0000000e+00+0.j]])"
            ]
          },
          "execution_count": 177,
          "metadata": {},
          "output_type": "execute_result"
        }
      ],
      "source": [
        "C.I * C"
      ]
    },
    {
      "cell_type": "markdown",
      "metadata": {
        "id": "JgVbw4PC_5vp"
      },
      "source": [
        "#### Функция det - детерминант"
      ]
    },
    {
      "cell_type": "code",
      "execution_count": null,
      "metadata": {
        "id": "VH1EEUo9_5vp",
        "outputId": "29b142ae-518e-475f-d7f0-517b0219ce02"
      },
      "outputs": [
        {
          "data": {
            "text/plain": [
              "(2.0000000000000004+0j)"
            ]
          },
          "execution_count": 178,
          "metadata": {},
          "output_type": "execute_result"
        }
      ],
      "source": [
        "linalg.det(C)"
      ]
    },
    {
      "cell_type": "code",
      "execution_count": null,
      "metadata": {
        "id": "r5kKTpbt_5vp",
        "outputId": "0c2a1c6f-6cdd-427c-a519-9c5fe4204a95"
      },
      "outputs": [
        {
          "data": {
            "text/plain": [
              "(0.5+0j)"
            ]
          },
          "execution_count": 179,
          "metadata": {},
          "output_type": "execute_result"
        }
      ],
      "source": [
        "linalg.det(C.I)"
      ]
    },
    {
      "cell_type": "markdown",
      "metadata": {
        "id": "GbA36yhf_5vp"
      },
      "source": [
        "### Задача 9\n",
        "Создайте две матрицы размером (5,5). Одна матрица содержит 5 в шахматном порядке как в задаче домашнего задания, другая имеет треугольную форму содержающую 5 на основной диагонали и в позициях выше ее, а ниже все 0. Посчитайте их детерминант и найдите обратные матрицы. Если для матрицы не у дается найти обратную, видимо этому мешает нулевое значение детерминанта."
      ]
    },
    {
      "cell_type": "code",
      "source": [
        "chess = []\n",
        "\n",
        "for i in range(25):\n",
        "  if i % 2 == 0:\n",
        "    chess.append(0)\n",
        "  else:\n",
        "    chess.append(5)\n",
        "\n",
        "chess = reshape(array(chess), (-1, 5))\n",
        "print(chess)\n",
        "\n",
        "chess_det = linalg.det(chess)\n",
        "print(chess_det)\n",
        "print(f'Обратной нет, так как детерминатн = {chess_det}')\n",
        "\n",
        "triangle = diag([5,5,5,5,5])\n",
        "count = 0\n",
        "for i in range(5):\n",
        "  if (count <= 4):\n",
        "    for j in range(5):\n",
        "      if j >= count:\n",
        "        triangle[i, j] = 5\n",
        "      else:\n",
        "        triangle[i, j] = 0\n",
        "  count+=1\n",
        "print(triangle)\n",
        "triangle_det = linalg.det(triangle)\n",
        "print(triangle_det)\n",
        "print(linalg.inv(triangle))\n"
      ],
      "metadata": {
        "colab": {
          "base_uri": "https://localhost:8080/"
        },
        "id": "zTeL_v_oMjCY",
        "outputId": "01734f28-f369-463a-c81c-b07464d9c86e"
      },
      "execution_count": null,
      "outputs": [
        {
          "output_type": "stream",
          "name": "stdout",
          "text": [
            "[[0 5 0 5 0]\n",
            " [5 0 5 0 5]\n",
            " [0 5 0 5 0]\n",
            " [5 0 5 0 5]\n",
            " [0 5 0 5 0]]\n",
            "0.0\n",
            "Обратной нет, так как детерминатн = 0.0\n",
            "[[5 5 5 5 5]\n",
            " [0 5 5 5 5]\n",
            " [0 0 5 5 5]\n",
            " [0 0 0 5 5]\n",
            " [0 0 0 0 5]]\n",
            "3124.999999999999\n",
            "[[ 0.2 -0.2  0.   0.   0. ]\n",
            " [ 0.   0.2 -0.2  0.   0. ]\n",
            " [ 0.   0.   0.2 -0.2  0. ]\n",
            " [ 0.   0.   0.   0.2 -0.2]\n",
            " [ 0.   0.   0.   0.   0.2]]\n"
          ]
        }
      ]
    },
    {
      "cell_type": "markdown",
      "metadata": {
        "id": "fLpv-xmT_5vq"
      },
      "source": [
        "### Обработка данных"
      ]
    },
    {
      "cell_type": "markdown",
      "metadata": {
        "id": "lBPU4Cf8_5vq"
      },
      "source": [
        "Часто бывает полезно хранить наборы данных в массивах Numpy. Numpy предоставляет ряд функций для вычисления статистики наборов данных в массивах.\n",
        "\n",
        "Например, давайте рассчитаем некоторые свойства из набора данных температуры Стокгольма, использованного выше."
      ]
    },
    {
      "cell_type": "code",
      "execution_count": null,
      "metadata": {
        "id": "e0Nlewcz_5vq",
        "outputId": "38bfc286-33b7-4b9f-d36c-4d9f8f11ca71"
      },
      "outputs": [
        {
          "data": {
            "text/plain": [
              "(77431, 7)"
            ]
          },
          "execution_count": 180,
          "metadata": {},
          "output_type": "execute_result"
        }
      ],
      "source": [
        "# напоминаем в переменной data храняться данные температуры в Стокгольме\n",
        "data.shape"
      ]
    },
    {
      "cell_type": "markdown",
      "metadata": {
        "id": "gBid47bJ_5vq"
      },
      "source": [
        "#### Функция mean"
      ]
    },
    {
      "cell_type": "code",
      "execution_count": null,
      "metadata": {
        "id": "jnJPywGo_5vq",
        "outputId": "86f7f138-1c8b-4417-a0ff-a1822919df40"
      },
      "outputs": [
        {
          "data": {
            "text/plain": [
              "6.197109684751585"
            ]
          },
          "execution_count": 181,
          "metadata": {},
          "output_type": "execute_result"
        }
      ],
      "source": [
        "# the temperature data is in column 3\n",
        "mean(data[:,3])"
      ]
    },
    {
      "cell_type": "markdown",
      "metadata": {
        "id": "fDn0k8jr_5vq"
      },
      "source": [
        "Средняя дневная температура в Стокгольме за последние 200 лет 6.2 C."
      ]
    },
    {
      "cell_type": "markdown",
      "metadata": {
        "id": "qynEEJ1i_5vr"
      },
      "source": [
        "#### Функции стандартного отклонения и дисперсии"
      ]
    },
    {
      "cell_type": "code",
      "execution_count": null,
      "metadata": {
        "id": "VVJXHgga_5vr",
        "outputId": "cdb11f6f-7a1c-45a7-a584-930159075627"
      },
      "outputs": [
        {
          "data": {
            "text/plain": [
              "(8.282271621340573, 68.59602320966341)"
            ]
          },
          "execution_count": 182,
          "metadata": {},
          "output_type": "execute_result"
        }
      ],
      "source": [
        "std(data[:,3]), var(data[:,3])"
      ]
    },
    {
      "cell_type": "code",
      "execution_count": null,
      "metadata": {
        "id": "4k_bMf90_5vr"
      },
      "outputs": [],
      "source": []
    },
    {
      "cell_type": "markdown",
      "metadata": {
        "id": "5378Y_H4_5vr"
      },
      "source": [
        "#### Функции min и max"
      ]
    },
    {
      "cell_type": "code",
      "execution_count": null,
      "metadata": {
        "id": "0iwKZ7Cu_5vr",
        "outputId": "69212157-33a7-4119-9baf-32bc8be1293c"
      },
      "outputs": [
        {
          "data": {
            "text/plain": [
              "-25.8"
            ]
          },
          "execution_count": 183,
          "metadata": {},
          "output_type": "execute_result"
        }
      ],
      "source": [
        "# минимальная температура\n",
        "data[:,3].min()"
      ]
    },
    {
      "cell_type": "code",
      "execution_count": null,
      "metadata": {
        "id": "4WArHOVg_5vr",
        "outputId": "df8321ab-1cc2-4f50-aeef-c6f4e20c36b2"
      },
      "outputs": [
        {
          "data": {
            "text/plain": [
              "28.3"
            ]
          },
          "execution_count": 184,
          "metadata": {},
          "output_type": "execute_result"
        }
      ],
      "source": [
        "# максимальная температура\n",
        "data[:,3].max()"
      ]
    },
    {
      "cell_type": "markdown",
      "metadata": {
        "id": "PhekjrVy_5vr"
      },
      "source": [
        "#### Функции sum, prod и trace"
      ]
    },
    {
      "cell_type": "code",
      "execution_count": null,
      "metadata": {
        "id": "-kVMkI3N_5vs",
        "outputId": "75dc6403-cd09-4693-f7ad-9895bb55a5e5"
      },
      "outputs": [
        {
          "data": {
            "text/plain": [
              "array([0, 1, 2, 3, 4, 5, 6, 7, 8, 9])"
            ]
          },
          "execution_count": 185,
          "metadata": {},
          "output_type": "execute_result"
        }
      ],
      "source": [
        "d = arange(0, 10)\n",
        "d"
      ]
    },
    {
      "cell_type": "code",
      "execution_count": null,
      "metadata": {
        "id": "7q9pMR7l_5vs",
        "outputId": "aa58811c-8bc6-46f1-cd93-b05b0eacab9c"
      },
      "outputs": [
        {
          "data": {
            "text/plain": [
              "45"
            ]
          },
          "execution_count": 186,
          "metadata": {},
          "output_type": "execute_result"
        }
      ],
      "source": [
        "# сумма всех элементов\n",
        "sum(d)"
      ]
    },
    {
      "cell_type": "code",
      "execution_count": null,
      "metadata": {
        "id": "UA2Z2RiV_5vs",
        "outputId": "1f228392-12a0-488b-fc6e-0a4c4d479a26"
      },
      "outputs": [
        {
          "data": {
            "text/plain": [
              "3628800"
            ]
          },
          "execution_count": 187,
          "metadata": {},
          "output_type": "execute_result"
        }
      ],
      "source": [
        "# произведение всех элементов\n",
        "prod(d+1)"
      ]
    },
    {
      "cell_type": "code",
      "execution_count": null,
      "metadata": {
        "id": "e39rA4BA_5vs",
        "outputId": "f905ee85-0fe2-4cbe-a5a0-b87a5c0c21c4"
      },
      "outputs": [
        {
          "data": {
            "text/plain": [
              "array([ 0,  1,  3,  6, 10, 15, 21, 28, 36, 45], dtype=int32)"
            ]
          },
          "execution_count": 188,
          "metadata": {},
          "output_type": "execute_result"
        }
      ],
      "source": [
        "# совокупная сумма\n",
        "cumsum(d)"
      ]
    },
    {
      "cell_type": "code",
      "execution_count": null,
      "metadata": {
        "id": "ghdm2pAJ_5vs",
        "outputId": "1c797760-772e-4335-d56a-c4ba978fcead"
      },
      "outputs": [
        {
          "data": {
            "text/plain": [
              "array([      1,       2,       6,      24,     120,     720,    5040,\n",
              "         40320,  362880, 3628800], dtype=int32)"
            ]
          },
          "execution_count": 189,
          "metadata": {},
          "output_type": "execute_result"
        }
      ],
      "source": [
        "# совокупное произведение\n",
        "cumprod(d+1)"
      ]
    },
    {
      "cell_type": "code",
      "execution_count": null,
      "metadata": {
        "id": "20A0o3R7_5vs",
        "outputId": "2c4b733d-4604-4893-c2af-792e57f4969e"
      },
      "outputs": [
        {
          "data": {
            "text/plain": [
              "110"
            ]
          },
          "execution_count": 190,
          "metadata": {},
          "output_type": "execute_result"
        }
      ],
      "source": [
        "# тоже что и: diag(A).sum()\n",
        "trace(A)"
      ]
    },
    {
      "cell_type": "markdown",
      "metadata": {
        "id": "eicsd_Mw_5vt"
      },
      "source": [
        "### Вычисления на подмножествах массива"
      ]
    },
    {
      "cell_type": "markdown",
      "metadata": {
        "id": "0PiIf9oj_5vv"
      },
      "source": [
        "Можно выполнять вычисления на подмножествах используя индексирование, необычное индексирование и другие методы извлечения данных из массива.\n",
        "\n",
        "Рассмотрим данные массива температур в Стокгольме:"
      ]
    },
    {
      "cell_type": "markdown",
      "metadata": {
        "id": "AQzIKgT1_5vw"
      },
      "source": [
        "Формат данных: год, месяц, день, дневная средняя температура, самая низкая, самая высокая, местность.\n",
        "\n",
        "Если необходимо извлечь среднюю температуру в какой-то конкретный месяц, например февраль, тогда нужно создать маску индексов и использовать ее для извлечения данных только за этот месяц:"
      ]
    },
    {
      "cell_type": "code",
      "execution_count": null,
      "metadata": {
        "id": "bQIwSYMz_5vw",
        "outputId": "263dcd23-e235-4f36-b85d-02451a2544b1"
      },
      "outputs": [
        {
          "data": {
            "text/plain": [
              "array([ 1.,  2.,  3.,  4.,  5.,  6.,  7.,  8.,  9., 10., 11., 12.])"
            ]
          },
          "execution_count": 191,
          "metadata": {},
          "output_type": "execute_result"
        }
      ],
      "source": [
        "unique(data[:,1]) # столбик месяцев от 1 до 12"
      ]
    },
    {
      "cell_type": "code",
      "execution_count": null,
      "metadata": {
        "id": "frphnc80_5vw"
      },
      "outputs": [],
      "source": [
        "mask_feb = data[:,1] == 2"
      ]
    },
    {
      "cell_type": "code",
      "execution_count": null,
      "metadata": {
        "id": "C5Vkhn61_5vw",
        "outputId": "d510b719-cef4-4dd9-d505-1c327b642b4d"
      },
      "outputs": [
        {
          "data": {
            "text/plain": [
              "-3.212109570736596"
            ]
          },
          "execution_count": 193,
          "metadata": {},
          "output_type": "execute_result"
        }
      ],
      "source": [
        "# температурные данные в столбике 3\n",
        "mean(data[mask_feb,3])"
      ]
    },
    {
      "cell_type": "markdown",
      "metadata": {
        "id": "f7NIhK2C_5vw"
      },
      "source": [
        "С этими интструментами открываются широкие возможности для обработки данных. Например, чтобы извлечь среднюю температуру за месяц по всем месяцам достаточно несколько строк кода:"
      ]
    },
    {
      "cell_type": "code",
      "execution_count": null,
      "metadata": {
        "id": "fgj-GZNI_5vw",
        "outputId": "02f24712-6665-4171-f3b0-707dd97af85f"
      },
      "outputs": [
        {
          "data": {
            "image/png": "[encoded data removed]",
            "text/plain": [
              "<Figure size 432x288 with 1 Axes>"
            ]
          },
          "metadata": {
            "needs_background": "light"
          },
          "output_type": "display_data"
        }
      ],
      "source": [
        "months = arange(1,13)\n",
        "monthly_mean = [mean(data[data[:,1] == month, 3]) for month in months]\n",
        "\n",
        "fig, ax = plt.subplots()\n",
        "ax.bar(months, monthly_mean)\n",
        "ax.set_xlabel(\"Month\")\n",
        "ax.set_ylabel(\"Monthly avg. temp.\");"
      ]
    },
    {
      "cell_type": "markdown",
      "metadata": {
        "id": "OdFUDjLV_5vx"
      },
      "source": [
        "### Вычисления с данными высокой размерности"
      ]
    },
    {
      "cell_type": "markdown",
      "metadata": {
        "id": "H4MPlTvR_5vx"
      },
      "source": [
        "Когда функции, такие как `min`, `max` и т. д. применяются к многомерным массивам, иногда полезно применять расчет ко всему массиву, а иногда только на основе строки или столбца. Используя аргумент `axis`, мы можем указать, как должны вести себя эти функции:"
      ]
    },
    {
      "cell_type": "code",
      "execution_count": null,
      "metadata": {
        "id": "qmUoC354_5vx",
        "outputId": "d6a221ab-55e2-49e1-9df7-105057a91419"
      },
      "outputs": [
        {
          "data": {
            "text/plain": [
              "array([[0.86270493, 0.96981009, 0.96959743],\n",
              "       [0.35425871, 0.52085563, 0.48726959],\n",
              "       [0.61650805, 0.05690313, 0.1292265 ]])"
            ]
          },
          "execution_count": 195,
          "metadata": {},
          "output_type": "execute_result"
        }
      ],
      "source": [
        "m = random.rand(3,3)\n",
        "m"
      ]
    },
    {
      "cell_type": "code",
      "execution_count": null,
      "metadata": {
        "id": "YPaJQTrK_5vx",
        "outputId": "a5a544c4-0a93-40fa-d214-91e8858f021d"
      },
      "outputs": [
        {
          "data": {
            "text/plain": [
              "0.9698100908575067"
            ]
          },
          "execution_count": 196,
          "metadata": {},
          "output_type": "execute_result"
        }
      ],
      "source": [
        "# максимум по массиву\n",
        "m.max()"
      ]
    },
    {
      "cell_type": "code",
      "execution_count": null,
      "metadata": {
        "id": "kIASWUG0_5vx",
        "outputId": "7716c650-1483-45f6-b707-d6c63927f518"
      },
      "outputs": [
        {
          "data": {
            "text/plain": [
              "array([0.86270493, 0.96981009, 0.96959743])"
            ]
          },
          "execution_count": 197,
          "metadata": {},
          "output_type": "execute_result"
        }
      ],
      "source": [
        "# максимумы по каждому столбцу\n",
        "m.max(axis=0)"
      ]
    },
    {
      "cell_type": "code",
      "execution_count": null,
      "metadata": {
        "id": "joWQnlZZ_5vx",
        "outputId": "6c8dfbc7-1ebf-41ca-9b1a-63362cbe8162"
      },
      "outputs": [
        {
          "data": {
            "text/plain": [
              "array([0.96981009, 0.52085563, 0.61650805])"
            ]
          },
          "execution_count": 198,
          "metadata": {},
          "output_type": "execute_result"
        }
      ],
      "source": [
        "# максимумы по каждой строке\n",
        "m.max(axis=1)"
      ]
    },
    {
      "cell_type": "markdown",
      "metadata": {
        "id": "spQtHr2y_5vy"
      },
      "source": [
        "Многие другие функции и методы в классах `array` и `matrix` принимают один и тот же (необязательный) аргумент ключевого слова `axis`."
      ]
    },
    {
      "cell_type": "markdown",
      "metadata": {
        "id": "EE3N-QzV_5vy"
      },
      "source": [
        "## Преобразования формы, размера и соединение массивов"
      ]
    },
    {
      "cell_type": "markdown",
      "metadata": {
        "id": "gMqS9n5b_5vy"
      },
      "source": [
        "Форма массива Numpy может быть изменена без копирования базовых данных, что делает его быстрой операцией даже для больших массивов."
      ]
    },
    {
      "cell_type": "code",
      "execution_count": null,
      "metadata": {
        "id": "fT_hiECx_5vy",
        "outputId": "22dc13fa-108b-4829-df6e-6c8a8cc5b962"
      },
      "outputs": [
        {
          "data": {
            "text/plain": [
              "array([[ 0,  1,  2,  3,  4],\n",
              "       [10, 11, 12, 13, 14],\n",
              "       [20, 21, 22, 23, 24],\n",
              "       [30, 31, 32, 33, 34],\n",
              "       [40, 41, 42, 43, 44]])"
            ]
          },
          "execution_count": 199,
          "metadata": {},
          "output_type": "execute_result"
        }
      ],
      "source": [
        "A"
      ]
    },
    {
      "cell_type": "code",
      "execution_count": null,
      "metadata": {
        "id": "ZtnYZs-s_5vy"
      },
      "outputs": [],
      "source": [
        "n, m = A.shape"
      ]
    },
    {
      "cell_type": "code",
      "execution_count": null,
      "metadata": {
        "id": "m5aYi4hq_5vy",
        "outputId": "5909de49-c344-42e7-e5c9-dadf2dd829f6"
      },
      "outputs": [
        {
          "data": {
            "text/plain": [
              "array([[ 0,  1,  2,  3,  4, 10, 11, 12, 13, 14, 20, 21, 22, 23, 24, 30,\n",
              "        31, 32, 33, 34, 40, 41, 42, 43, 44]])"
            ]
          },
          "execution_count": 201,
          "metadata": {},
          "output_type": "execute_result"
        }
      ],
      "source": [
        "B = A.reshape((1,n*m))\n",
        "B"
      ]
    },
    {
      "cell_type": "code",
      "execution_count": null,
      "metadata": {
        "id": "PGYH6gkt_5vy",
        "outputId": "ff73345b-de01-479a-dc12-cc88c10f316b"
      },
      "outputs": [
        {
          "data": {
            "text/plain": [
              "array([[ 5,  5,  5,  5,  5, 10, 11, 12, 13, 14, 20, 21, 22, 23, 24, 30,\n",
              "        31, 32, 33, 34, 40, 41, 42, 43, 44]])"
            ]
          },
          "execution_count": 202,
          "metadata": {},
          "output_type": "execute_result"
        }
      ],
      "source": [
        "B[0,0:5] = 5 # изменим массив\n",
        "\n",
        "B"
      ]
    },
    {
      "cell_type": "code",
      "execution_count": null,
      "metadata": {
        "id": "5FaFHegW_5vz",
        "outputId": "b4760bd3-05a9-49b2-8a6f-b4f467341917"
      },
      "outputs": [
        {
          "data": {
            "text/plain": [
              "array([[ 5,  5,  5,  5,  5],\n",
              "       [10, 11, 12, 13, 14],\n",
              "       [20, 21, 22, 23, 24],\n",
              "       [30, 31, 32, 33, 34],\n",
              "       [40, 41, 42, 43, 44]])"
            ]
          },
          "execution_count": 203,
          "metadata": {},
          "output_type": "execute_result"
        }
      ],
      "source": [
        "A # и оригинальные данные тоже изменятся. A и B это ссылки на одни и теже данные"
      ]
    },
    {
      "cell_type": "markdown",
      "metadata": {
        "id": "BNajdeuo_5vz"
      },
      "source": [
        "Мы также можем использовать функцию `flatten`, чтобы превратить массив более высоких измерений в вектор. Но эта функция создает копию данных."
      ]
    },
    {
      "cell_type": "code",
      "execution_count": null,
      "metadata": {
        "id": "fKYToqqx_5vz",
        "outputId": "48f96c96-1cdb-475b-b990-5514083bd340"
      },
      "outputs": [
        {
          "data": {
            "text/plain": [
              "array([ 5,  5,  5,  5,  5, 10, 11, 12, 13, 14, 20, 21, 22, 23, 24, 30, 31,\n",
              "       32, 33, 34, 40, 41, 42, 43, 44])"
            ]
          },
          "execution_count": 204,
          "metadata": {},
          "output_type": "execute_result"
        }
      ],
      "source": [
        "B = A.flatten()\n",
        "\n",
        "B"
      ]
    },
    {
      "cell_type": "code",
      "execution_count": null,
      "metadata": {
        "id": "26uo2wmR_5vz",
        "outputId": "aef25b86-fec3-43bb-d0a4-b91ca9cdb2e8"
      },
      "outputs": [
        {
          "data": {
            "text/plain": [
              "array([10, 10, 10, 10, 10, 10, 11, 12, 13, 14, 20, 21, 22, 23, 24, 30, 31,\n",
              "       32, 33, 34, 40, 41, 42, 43, 44])"
            ]
          },
          "execution_count": 205,
          "metadata": {},
          "output_type": "execute_result"
        }
      ],
      "source": [
        "B[0:5] = 10\n",
        "\n",
        "B"
      ]
    },
    {
      "cell_type": "code",
      "execution_count": null,
      "metadata": {
        "id": "2uFmX0TP_5vz",
        "outputId": "45310b71-e4fb-4c30-998d-41a5ac87b860"
      },
      "outputs": [
        {
          "data": {
            "text/plain": [
              "array([[ 5,  5,  5,  5,  5],\n",
              "       [10, 11, 12, 13, 14],\n",
              "       [20, 21, 22, 23, 24],\n",
              "       [30, 31, 32, 33, 34],\n",
              "       [40, 41, 42, 43, 44]])"
            ]
          },
          "execution_count": 206,
          "metadata": {},
          "output_type": "execute_result"
        }
      ],
      "source": [
        "A # теперь A неизменилась, поскольку данные B это копия A, теперь B не ссылается на те же данные."
      ]
    },
    {
      "cell_type": "markdown",
      "metadata": {
        "id": "UVnSzq8B_5vz"
      },
      "source": [
        "## Дополнение новых размерностей: newaxis"
      ]
    },
    {
      "cell_type": "markdown",
      "metadata": {
        "id": "F-FhSKZu_5vz"
      },
      "source": [
        "С `newaxis`, можно добавить новые размерности в массив. Например, превратить вектор в матрицу:"
      ]
    },
    {
      "cell_type": "code",
      "execution_count": null,
      "metadata": {
        "id": "thyqiE-W_5v0"
      },
      "outputs": [],
      "source": [
        "v = array([1,2,3])"
      ]
    },
    {
      "cell_type": "code",
      "execution_count": null,
      "metadata": {
        "id": "icSpvTe__5v0",
        "outputId": "9bdeba7e-ae53-439e-e5b3-561c338ae088"
      },
      "outputs": [
        {
          "data": {
            "text/plain": [
              "(3,)"
            ]
          },
          "execution_count": 208,
          "metadata": {},
          "output_type": "execute_result"
        }
      ],
      "source": [
        "shape(v)"
      ]
    },
    {
      "cell_type": "code",
      "execution_count": null,
      "metadata": {
        "id": "qATnUcyj_5v0",
        "outputId": "d5056056-8b92-48d1-d3e1-81e7522279a3"
      },
      "outputs": [
        {
          "data": {
            "text/plain": [
              "array([[1],\n",
              "       [2],\n",
              "       [3]])"
            ]
          },
          "execution_count": 209,
          "metadata": {},
          "output_type": "execute_result"
        }
      ],
      "source": [
        "# создание столбца матрицы из вектора v\n",
        "v[:, newaxis]"
      ]
    },
    {
      "cell_type": "code",
      "execution_count": null,
      "metadata": {
        "id": "sbkHL12s_5v0",
        "outputId": "0c718e9b-fc89-4ec6-d85e-8b75e634a4ca"
      },
      "outputs": [
        {
          "data": {
            "text/plain": [
              "(3, 1)"
            ]
          },
          "execution_count": 210,
          "metadata": {},
          "output_type": "execute_result"
        }
      ],
      "source": [
        "# столбец матрицы\n",
        "v[:,newaxis].shape"
      ]
    },
    {
      "cell_type": "code",
      "execution_count": null,
      "metadata": {
        "id": "lgmT8_lM_5v0",
        "outputId": "f020d816-6e95-4dc9-b460-a2818c800fa8"
      },
      "outputs": [
        {
          "data": {
            "text/plain": [
              "(1, 3)"
            ]
          },
          "execution_count": 211,
          "metadata": {},
          "output_type": "execute_result"
        }
      ],
      "source": [
        "# строка матрицы\n",
        "v[newaxis,:].shape"
      ]
    },
    {
      "cell_type": "markdown",
      "metadata": {
        "id": "J9con7ZT_5v0"
      },
      "source": [
        "## Соединение и повторение массивов"
      ]
    },
    {
      "cell_type": "markdown",
      "metadata": {
        "id": "GJdrTjCQ_5v0"
      },
      "source": [
        "Используя функции `repeat`, `tile`, `vstack`, `hstack` и `concatenate` мы можем создать больше векторов и матриц из более мелких:"
      ]
    },
    {
      "cell_type": "markdown",
      "metadata": {
        "id": "qrCA7YAq_5v1"
      },
      "source": [
        "### `tile` и `repeat`"
      ]
    },
    {
      "cell_type": "code",
      "execution_count": null,
      "metadata": {
        "id": "X9QntGZT_5v1"
      },
      "outputs": [],
      "source": [
        "a = array([[1, 2], [3, 4]])"
      ]
    },
    {
      "cell_type": "code",
      "execution_count": null,
      "metadata": {
        "id": "37mWkwnN_5v1",
        "outputId": "e1dd7b40-e763-4d67-cff7-c64bfa406de7"
      },
      "outputs": [
        {
          "data": {
            "text/plain": [
              "array([1, 1, 1, 2, 2, 2, 3, 3, 3, 4, 4, 4])"
            ]
          },
          "execution_count": 213,
          "metadata": {},
          "output_type": "execute_result"
        }
      ],
      "source": [
        "# повторить каждый элемент 3 раза\n",
        "repeat(a, 3)"
      ]
    },
    {
      "cell_type": "code",
      "execution_count": null,
      "metadata": {
        "id": "e6Bd84eh_5v1",
        "outputId": "2566212d-d12c-4a14-d511-afb10bf8bd9d"
      },
      "outputs": [
        {
          "data": {
            "text/plain": [
              "array([[1, 2, 1, 2, 1, 2],\n",
              "       [3, 4, 3, 4, 3, 4]])"
            ]
          },
          "execution_count": 214,
          "metadata": {},
          "output_type": "execute_result"
        }
      ],
      "source": [
        "# повторить матрицу 3 раза \n",
        "tile(a, 3)"
      ]
    },
    {
      "cell_type": "markdown",
      "metadata": {
        "id": "1Caq2fS__5v1"
      },
      "source": [
        "### `concatenate`"
      ]
    },
    {
      "cell_type": "code",
      "execution_count": null,
      "metadata": {
        "id": "bDVZC9qb_5v2"
      },
      "outputs": [],
      "source": [
        "b = array([[5, 6]])"
      ]
    },
    {
      "cell_type": "code",
      "execution_count": null,
      "metadata": {
        "id": "HcZVJ2eq_5v2",
        "outputId": "c98bd132-7694-45d9-fbe2-cda29da18f9c"
      },
      "outputs": [
        {
          "data": {
            "text/plain": [
              "array([[1, 2],\n",
              "       [3, 4],\n",
              "       [5, 6]])"
            ]
          },
          "execution_count": 216,
          "metadata": {},
          "output_type": "execute_result"
        }
      ],
      "source": [
        "concatenate((a, b), axis=0)"
      ]
    },
    {
      "cell_type": "code",
      "execution_count": null,
      "metadata": {
        "id": "ynBl71N4_5v2",
        "outputId": "89230b39-9078-41fd-84ca-6e0e926fcc7b"
      },
      "outputs": [
        {
          "data": {
            "text/plain": [
              "array([[1, 2, 5],\n",
              "       [3, 4, 6]])"
            ]
          },
          "execution_count": 217,
          "metadata": {},
          "output_type": "execute_result"
        }
      ],
      "source": [
        "concatenate((a, b.T), axis=1)"
      ]
    },
    {
      "cell_type": "markdown",
      "metadata": {
        "id": "S5PlYudo_5v2"
      },
      "source": [
        "### `hstack` и `vstack`"
      ]
    },
    {
      "cell_type": "code",
      "execution_count": null,
      "metadata": {
        "id": "ndB7so2O_5v2",
        "outputId": "2640975b-2847-48bd-bafb-dda675c3ed32"
      },
      "outputs": [
        {
          "data": {
            "text/plain": [
              "array([[1, 2],\n",
              "       [3, 4],\n",
              "       [5, 6]])"
            ]
          },
          "execution_count": 218,
          "metadata": {},
          "output_type": "execute_result"
        }
      ],
      "source": [
        "vstack((a,b))"
      ]
    },
    {
      "cell_type": "code",
      "execution_count": null,
      "metadata": {
        "id": "JVmIqrNt_5v2",
        "outputId": "85a6e91f-a030-44d5-d6c4-ded316e0bcd3"
      },
      "outputs": [
        {
          "data": {
            "text/plain": [
              "array([[1, 2, 5],\n",
              "       [3, 4, 6]])"
            ]
          },
          "execution_count": 219,
          "metadata": {},
          "output_type": "execute_result"
        }
      ],
      "source": [
        "hstack((a,b.T))"
      ]
    },
    {
      "cell_type": "markdown",
      "metadata": {
        "id": "4WphkTZq_5v3"
      },
      "source": [
        "## Копия и \"глубокая копия\""
      ]
    },
    {
      "cell_type": "markdown",
      "metadata": {
        "id": "fm7yH94P_5v3"
      },
      "source": [
        "Для достижения высокой производительности назначения в Python обычно не копируют базовые объекты. Это важно, например, когда объекты передаются между функциями, чтобы избежать чрезмерного объема копирования памяти, когда это не является необходимым (технический термин: пропуск по ссылке)."
      ]
    },
    {
      "cell_type": "code",
      "execution_count": null,
      "metadata": {
        "id": "IYrtd9e1_5v3",
        "outputId": "5cfe2479-1466-4c21-e591-76f23d5e81d1"
      },
      "outputs": [
        {
          "data": {
            "text/plain": [
              "array([[1, 2],\n",
              "       [3, 4]])"
            ]
          },
          "execution_count": 220,
          "metadata": {},
          "output_type": "execute_result"
        }
      ],
      "source": [
        "A = array([[1, 2], [3, 4]])\n",
        "\n",
        "A"
      ]
    },
    {
      "cell_type": "code",
      "execution_count": null,
      "metadata": {
        "id": "UEmixmOO_5v3"
      },
      "outputs": [],
      "source": [
        "# теперь В ссылается натеже данные, что и А \n",
        "B = A "
      ]
    },
    {
      "cell_type": "code",
      "execution_count": null,
      "metadata": {
        "id": "viF7tgYj_5v3",
        "outputId": "ceaaeb5b-a191-4be8-d681-55544d4c8db8"
      },
      "outputs": [
        {
          "data": {
            "text/plain": [
              "array([[10,  2],\n",
              "       [ 3,  4]])"
            ]
          },
          "execution_count": 222,
          "metadata": {},
          "output_type": "execute_result"
        }
      ],
      "source": [
        "# изменения B отражаются в A\n",
        "B[0,0] = 10\n",
        "\n",
        "B"
      ]
    },
    {
      "cell_type": "code",
      "execution_count": null,
      "metadata": {
        "id": "oePzlXHh_5v3",
        "outputId": "ddaae8ac-0f0c-481b-9649-3ab3cfc15b8d"
      },
      "outputs": [
        {
          "data": {
            "text/plain": [
              "array([[10,  2],\n",
              "       [ 3,  4]])"
            ]
          },
          "execution_count": 223,
          "metadata": {},
          "output_type": "execute_result"
        }
      ],
      "source": [
        "A"
      ]
    },
    {
      "cell_type": "markdown",
      "metadata": {
        "id": "QTVsFVhQ_5v3"
      },
      "source": [
        "Если мы хотим избежать такого поведения, чтобы при получении нового полностью независимого объекта `B`, скопированного из `A`, нам нужно было сделать так называемое \"глубокое копирование\" с помощью функции `copy`:"
      ]
    },
    {
      "cell_type": "code",
      "execution_count": null,
      "metadata": {
        "id": "EdFw_1nW_5v3"
      },
      "outputs": [],
      "source": [
        "B = copy(A)"
      ]
    },
    {
      "cell_type": "code",
      "execution_count": null,
      "metadata": {
        "id": "cP0-OFzf_5v4",
        "outputId": "c95ed255-016c-415c-f62e-62252f8e8c22"
      },
      "outputs": [
        {
          "data": {
            "text/plain": [
              "array([[10,  2],\n",
              "       [ 3,  4]])"
            ]
          },
          "execution_count": 225,
          "metadata": {},
          "output_type": "execute_result"
        }
      ],
      "source": [
        "# теперь при изменении В, А не меняется\n",
        "\n",
        "B"
      ]
    },
    {
      "cell_type": "code",
      "execution_count": null,
      "metadata": {
        "id": "eakFxoN1_5v4",
        "outputId": "92880a1b-cbda-48b4-ad63-2b31511f1c3f"
      },
      "outputs": [
        {
          "data": {
            "text/plain": [
              "array([[10,  2],\n",
              "       [ 3,  4]])"
            ]
          },
          "execution_count": 226,
          "metadata": {},
          "output_type": "execute_result"
        }
      ],
      "source": [
        "A"
      ]
    },
    {
      "cell_type": "markdown",
      "metadata": {
        "id": "peacFPZ9_5v4"
      },
      "source": [
        "## Иттерация на элементах массива"
      ]
    },
    {
      "cell_type": "markdown",
      "metadata": {
        "id": "Nq256YbP_5v4"
      },
      "source": [
        "Как правило, мы хотим избежать повторения элементов массивов всякий раз, когда это возможно (любой ценой). Причина в том, что в интерпретируемом языке, таком как Python (или MATLAB), итерации действительно медленны по сравнению с векторизованными операциями.\n",
        "\n",
        "Однако, иногда итерации неизбежны. Для таких случаев цикл Python `for` является наиболее удобным способом перебора массива:"
      ]
    },
    {
      "cell_type": "code",
      "execution_count": null,
      "metadata": {
        "id": "Ch2k1eCf_5v4",
        "outputId": "2d746041-7a8a-474d-c178-fb7b48f911f1"
      },
      "outputs": [
        {
          "name": "stdout",
          "output_type": "stream",
          "text": [
            "1\n",
            "2\n",
            "3\n",
            "4\n"
          ]
        }
      ],
      "source": [
        "v = array([1,2,3,4])\n",
        "\n",
        "for element in v:\n",
        "    print(element)"
      ]
    },
    {
      "cell_type": "code",
      "execution_count": null,
      "metadata": {
        "id": "YJhbH_zC_5v4",
        "outputId": "11ba7a2f-b7f7-4e77-a34c-f57ca7c508c6"
      },
      "outputs": [
        {
          "name": "stdout",
          "output_type": "stream",
          "text": [
            "row [1 2]\n",
            "1\n",
            "2\n",
            "row [3 4]\n",
            "3\n",
            "4\n"
          ]
        }
      ],
      "source": [
        "M = array([[1,2], [3,4]])\n",
        "\n",
        "for row in M:\n",
        "    print(\"row\", row)\n",
        "    \n",
        "    for element in row:\n",
        "        print(element)"
      ]
    },
    {
      "cell_type": "markdown",
      "metadata": {
        "id": "C2ryYXmd_5v5"
      },
      "source": [
        "Когда нам нужно перебирать каждый элемент массива и изменять его элементы, удобно использовать функцию `enumerate` для получения как элемента, так и его индекса в цикле `for` :"
      ]
    },
    {
      "cell_type": "code",
      "execution_count": null,
      "metadata": {
        "id": "woeoA5DM_5v5",
        "outputId": "2b0cc851-78d6-4443-8840-74e3ab3789ee"
      },
      "outputs": [
        {
          "name": "stdout",
          "output_type": "stream",
          "text": [
            "row_idx 0 row [1 2]\n",
            "col_idx 0 element 1\n",
            "col_idx 1 element 2\n",
            "row_idx 1 row [3 4]\n",
            "col_idx 0 element 3\n",
            "col_idx 1 element 4\n"
          ]
        }
      ],
      "source": [
        "for row_idx, row in enumerate(M):\n",
        "    print(\"row_idx\", row_idx, \"row\", row)\n",
        "    \n",
        "    for col_idx, element in enumerate(row):\n",
        "        print(\"col_idx\", col_idx, \"element\", element)\n",
        "       \n",
        "        # обновляет матрицу M: возводя ее элементы в квадрат\n",
        "        M[row_idx, col_idx] = element ** 2"
      ]
    },
    {
      "cell_type": "code",
      "execution_count": null,
      "metadata": {
        "id": "Sl6oFSSC_5v5",
        "outputId": "07e99032-b630-4ccb-c919-c3c3327b96d8"
      },
      "outputs": [
        {
          "data": {
            "text/plain": [
              "array([[ 1,  4],\n",
              "       [ 9, 16]])"
            ]
          },
          "execution_count": 230,
          "metadata": {},
          "output_type": "execute_result"
        }
      ],
      "source": [
        "# каждый элемент в M возведен в квадрат\n",
        "M"
      ]
    },
    {
      "cell_type": "markdown",
      "metadata": {
        "id": "R5SzvS-B_5v5"
      },
      "source": [
        "## Векторные функции"
      ]
    },
    {
      "cell_type": "markdown",
      "metadata": {
        "id": "BrpHFtms_5v5"
      },
      "source": [
        "Как уже упоминалось несколько раз, чтобы получить хорошую производительность, мы должны стараться избегать циклического перебора элементов в наших векторах и матрицах, а вместо этого использовать векторизованные алгоритмы. Первый шаг в преобразовании скалярного алгоритма в векторизованный алгоритм заключается в том, чтобы убедиться, что функции, которые мы пишем, работают с векторными входными данными."
      ]
    },
    {
      "cell_type": "code",
      "execution_count": null,
      "metadata": {
        "id": "OJvKnHYP_5v5"
      },
      "outputs": [],
      "source": [
        "def Theta(x):\n",
        "    \"\"\"\n",
        "    Скалярная реализация функции порога Хевисайда.\n",
        "    \"\"\"\n",
        "    if x >= 0:\n",
        "        return 1\n",
        "    else:\n",
        "        return 0"
      ]
    },
    {
      "cell_type": "code",
      "execution_count": null,
      "metadata": {
        "id": "wzy5XGgE_5v5",
        "outputId": "579c369b-d0ba-4fcf-eb3d-151cb9901316"
      },
      "outputs": [
        {
          "ename": "ValueError",
          "evalue": "The truth value of an array with more than one element is ambiguous. Use a.any() or a.all()",
          "output_type": "error",
          "traceback": [
            "\u001b[1;31m---------------------------------------------------------------------------\u001b[0m",
            "\u001b[1;31mValueError\u001b[0m                                Traceback (most recent call last)",
            "\u001b[1;32m<ipython-input-232-2cb2062a7e18>\u001b[0m in \u001b[0;36m<module>\u001b[1;34m\u001b[0m\n\u001b[1;32m----> 1\u001b[1;33m \u001b[0mTheta\u001b[0m\u001b[1;33m(\u001b[0m\u001b[0marray\u001b[0m\u001b[1;33m(\u001b[0m\u001b[1;33m[\u001b[0m\u001b[1;33m-\u001b[0m\u001b[1;36m3\u001b[0m\u001b[1;33m,\u001b[0m\u001b[1;33m-\u001b[0m\u001b[1;36m2\u001b[0m\u001b[1;33m,\u001b[0m\u001b[1;33m-\u001b[0m\u001b[1;36m1\u001b[0m\u001b[1;33m,\u001b[0m\u001b[1;36m0\u001b[0m\u001b[1;33m,\u001b[0m\u001b[1;36m1\u001b[0m\u001b[1;33m,\u001b[0m\u001b[1;36m2\u001b[0m\u001b[1;33m,\u001b[0m\u001b[1;36m3\u001b[0m\u001b[1;33m]\u001b[0m\u001b[1;33m)\u001b[0m\u001b[1;33m)\u001b[0m\u001b[1;33m\u001b[0m\u001b[1;33m\u001b[0m\u001b[0m\n\u001b[0m",
            "\u001b[1;32m<ipython-input-231-c9c3b027fcc6>\u001b[0m in \u001b[0;36mTheta\u001b[1;34m(x)\u001b[0m\n\u001b[0;32m      3\u001b[0m     \u001b[0mСкалярная\u001b[0m \u001b[0mреализация\u001b[0m \u001b[0mфункции\u001b[0m \u001b[0mпорога\u001b[0m \u001b[0mХевисайда\u001b[0m\u001b[1;33m.\u001b[0m\u001b[1;33m\u001b[0m\u001b[1;33m\u001b[0m\u001b[0m\n\u001b[0;32m      4\u001b[0m     \"\"\"\n\u001b[1;32m----> 5\u001b[1;33m     \u001b[1;32mif\u001b[0m \u001b[0mx\u001b[0m \u001b[1;33m>=\u001b[0m \u001b[1;36m0\u001b[0m\u001b[1;33m:\u001b[0m\u001b[1;33m\u001b[0m\u001b[1;33m\u001b[0m\u001b[0m\n\u001b[0m\u001b[0;32m      6\u001b[0m         \u001b[1;32mreturn\u001b[0m \u001b[1;36m1\u001b[0m\u001b[1;33m\u001b[0m\u001b[1;33m\u001b[0m\u001b[0m\n\u001b[0;32m      7\u001b[0m     \u001b[1;32melse\u001b[0m\u001b[1;33m:\u001b[0m\u001b[1;33m\u001b[0m\u001b[1;33m\u001b[0m\u001b[0m\n",
            "\u001b[1;31mValueError\u001b[0m: The truth value of an array with more than one element is ambiguous. Use a.any() or a.all()"
          ]
        }
      ],
      "source": [
        "Theta(array([-3,-2,-1,0,1,2,3]))"
      ]
    },
    {
      "cell_type": "markdown",
      "metadata": {
        "id": "1s-op1Io_5v6"
      },
      "source": [
        "Хорошо, это не сработало, потому что мы не написали функцию `Theta`, чтобы она могла обрабатывать векторный ввод...\n",
        "\n",
        "Чтобы получить векторизованную версию теты, мы можем использовать функцию Numpy `vectorize`. Во многих случаях он может автоматически векторизовать функцию:"
      ]
    },
    {
      "cell_type": "code",
      "execution_count": null,
      "metadata": {
        "id": "JcvInN3v_5v6"
      },
      "outputs": [],
      "source": [
        "Theta_vec = vectorize(Theta)"
      ]
    },
    {
      "cell_type": "code",
      "execution_count": null,
      "metadata": {
        "id": "sqLR2OZz_5v6",
        "outputId": "ee45224d-786d-4d3e-9a10-c0a7aed4a9cb"
      },
      "outputs": [
        {
          "data": {
            "text/plain": [
              "array([0, 0, 0, 1, 1, 1, 1])"
            ]
          },
          "execution_count": 234,
          "metadata": {},
          "output_type": "execute_result"
        }
      ],
      "source": [
        "Theta_vec(array([-3,-2,-1,0,1,2,3]))"
      ]
    },
    {
      "cell_type": "markdown",
      "metadata": {
        "id": "AQwRLVlV_5v6"
      },
      "source": [
        "Мы также можем реализовать функцию для приема векторного ввода с самого начала (требует больше усилий, но может дать лучшую производительность):"
      ]
    },
    {
      "cell_type": "code",
      "execution_count": null,
      "metadata": {
        "id": "UW14Wok7_5v6"
      },
      "outputs": [],
      "source": [
        "def Theta(x):\n",
        "    \"\"\"\n",
        "    Vector-aware implemenation of the Heaviside step function.\n",
        "    \"\"\"\n",
        "    return 1 * (x >= 0)"
      ]
    },
    {
      "cell_type": "code",
      "execution_count": null,
      "metadata": {
        "id": "v_Lofxhm_5v6",
        "outputId": "e5f81c47-3df8-4bd0-e23d-bf67adea1be6"
      },
      "outputs": [
        {
          "data": {
            "text/plain": [
              "array([0, 0, 0, 1, 1, 1, 1])"
            ]
          },
          "execution_count": 236,
          "metadata": {},
          "output_type": "execute_result"
        }
      ],
      "source": [
        "Theta(array([-3,-2,-1,0,1,2,3]))"
      ]
    },
    {
      "cell_type": "code",
      "execution_count": null,
      "metadata": {
        "id": "rOnsSX9J_5v6",
        "outputId": "e016256a-afa7-4a34-ad88-4f83275e46cf"
      },
      "outputs": [
        {
          "data": {
            "text/plain": [
              "(0, 1)"
            ]
          },
          "execution_count": 237,
          "metadata": {},
          "output_type": "execute_result"
        }
      ],
      "source": [
        "# still works for scalars as well\n",
        "Theta(-1.2), Theta(2.6)"
      ]
    },
    {
      "cell_type": "markdown",
      "metadata": {
        "id": "Kv61-r6F_5v7"
      },
      "source": [
        "## Использование массива в условии"
      ]
    },
    {
      "cell_type": "markdown",
      "metadata": {
        "id": "Be_KJcL-_5v7"
      },
      "source": [
        "При использовании массивов в условиях, например, `if` операторы и другие логические выражения, нужно использовать `any` или `all`, что требует, чтобы любой или все элементы в массиве равнялись `True`:"
      ]
    },
    {
      "cell_type": "code",
      "execution_count": null,
      "metadata": {
        "id": "QAoUy0hd_5v7",
        "outputId": "21018528-a77e-4b92-e83a-7e37eb4a649d"
      },
      "outputs": [
        {
          "data": {
            "text/plain": [
              "array([[ 1,  4],\n",
              "       [ 9, 16]])"
            ]
          },
          "execution_count": 238,
          "metadata": {},
          "output_type": "execute_result"
        }
      ],
      "source": [
        "M"
      ]
    },
    {
      "cell_type": "code",
      "execution_count": null,
      "metadata": {
        "id": "Kb9Duv_7_5v7",
        "outputId": "bdac3fb9-7115-49e1-8868-ecb9fe6c2141"
      },
      "outputs": [
        {
          "name": "stdout",
          "output_type": "stream",
          "text": [
            "at least one element in M is larger than 5\n"
          ]
        }
      ],
      "source": [
        "if (M > 5).any():\n",
        "    print(\"at least one element in M is larger than 5\")\n",
        "else:\n",
        "    print(\"no element in M is larger than 5\")"
      ]
    },
    {
      "cell_type": "code",
      "execution_count": null,
      "metadata": {
        "id": "ebr_rU_k_5v7",
        "outputId": "f500ed31-42bb-451f-ee91-5c00fe988896"
      },
      "outputs": [
        {
          "name": "stdout",
          "output_type": "stream",
          "text": [
            "all elements in M are not larger than 5\n"
          ]
        }
      ],
      "source": [
        "if (M > 5).all():\n",
        "    print(\"all elements in M are larger than 5\")\n",
        "else:\n",
        "    print(\"all elements in M are not larger than 5\")"
      ]
    },
    {
      "cell_type": "markdown",
      "metadata": {
        "id": "wmeZ8mhw_5v7"
      },
      "source": [
        "## Подбор типа"
      ]
    },
    {
      "cell_type": "markdown",
      "metadata": {
        "id": "QsOgLvUk_5v8"
      },
      "source": [
        "Поскольку массивы Numpy статически типизированы, тип массива не изменяется после его создания. Но мы можем явно привести массив некоторого типа к другому, используя функции `astype` (см. также аналогичную функцию `asarray`). Это всегда создает новый массив нового типа:"
      ]
    },
    {
      "cell_type": "code",
      "execution_count": null,
      "metadata": {
        "id": "LQL_PY6a_5v8",
        "outputId": "e9a454a1-576e-4f27-819b-b6e6cd65545a"
      },
      "outputs": [
        {
          "data": {
            "text/plain": [
              "dtype('int32')"
            ]
          },
          "execution_count": 241,
          "metadata": {},
          "output_type": "execute_result"
        }
      ],
      "source": [
        "M.dtype"
      ]
    },
    {
      "cell_type": "code",
      "execution_count": null,
      "metadata": {
        "id": "Xh75W1zR_5v8",
        "outputId": "7f187c00-0b0c-4a13-aab1-d1b7393297e0"
      },
      "outputs": [
        {
          "data": {
            "text/plain": [
              "array([[ 1.,  4.],\n",
              "       [ 9., 16.]])"
            ]
          },
          "execution_count": 242,
          "metadata": {},
          "output_type": "execute_result"
        }
      ],
      "source": [
        "M2 = M.astype(float)\n",
        "\n",
        "M2"
      ]
    },
    {
      "cell_type": "code",
      "execution_count": null,
      "metadata": {
        "id": "B-MaXL3Q_5v8",
        "outputId": "06abf188-2e57-44dd-9a35-ac4f8fcc7b6b"
      },
      "outputs": [
        {
          "data": {
            "text/plain": [
              "dtype('float64')"
            ]
          },
          "execution_count": 243,
          "metadata": {},
          "output_type": "execute_result"
        }
      ],
      "source": [
        "M2.dtype"
      ]
    },
    {
      "cell_type": "code",
      "execution_count": null,
      "metadata": {
        "id": "TZbbs7GM_5v8",
        "outputId": "4599e21e-9e82-4846-9cc7-a8d08145d567"
      },
      "outputs": [
        {
          "data": {
            "text/plain": [
              "array([[ True,  True],\n",
              "       [ True,  True]])"
            ]
          },
          "execution_count": 244,
          "metadata": {},
          "output_type": "execute_result"
        }
      ],
      "source": [
        "M3 = M.astype(bool)\n",
        "\n",
        "M3"
      ]
    },
    {
      "cell_type": "markdown",
      "metadata": {
        "id": "xm8D-1Ng_5v8"
      },
      "source": [
        "## Дальнейшее изучение"
      ]
    },
    {
      "cell_type": "markdown",
      "metadata": {
        "id": "VoxHsEtu_5v8"
      },
      "source": [
        "* http://numpy.scipy.org\n",
        "* http://scipy.org/Tentative_NumPy_Tutorial\n",
        "* http://scipy.org/NumPy_for_Matlab_Users - A Numpy guide for MATLAB users.\n",
        "* Этот курс создан на основе курса http://github.com/jrjohansson/scientific-python-lectures. Подробности можно найти здесь http://jrjohansson.github.io."
      ]
    }
  ],
  "metadata": {
    "kernelspec": {
      "display_name": "Python 3",
      "language": "python",
      "name": "python3"
    },
    "language_info": {
      "codemirror_mode": {
        "name": "ipython",
        "version": 3
      },
      "file_extension": ".py",
      "mimetype": "text/x-python",
      "name": "python",
      "nbconvert_exporter": "python",
      "pygments_lexer": "ipython3",
      "version": "3.7.0"
    },
    "nbTranslate": {
      "displayLangs": [
        "*"
      ],
      "hotkey": "alt-t",
      "langInMainMenu": true,
      "sourceLang": "en",
      "targetLang": "fr",
      "useGoogleTranslate": true
    },
    "colab": {
      "provenance": [],
      "collapsed_sections": []
    }
  },
  "nbformat": 4,
  "nbformat_minor": 0
}